{
 "cells": [
  {
   "cell_type": "markdown",
   "source": [
    "# HSE 2021: Mathematical Methods for Data Analysis\n",
    "\n",
    "## Homework 4\n",
    "\n",
    "**Warning 1**: You have 2 weeks for this assignemnt.  **it is better to start early (!)**\n",
    "\n",
    "**Warning 2**: it is critical to describe and explain what you are doing and why, use markdown cells\n",
    "\n",
    "\n",
    "### Contents\n",
    "\n",
    "#### Decision Trees - 7 points\n",
    "* [Task 1](#task1) (0.5 points)\n",
    "* [Task 2](#task2) (0.5 points)\n",
    "* [Task 3](#task3) (2 points)\n",
    "* [Task 4](#task4) (0.5 points)\n",
    "* [Task 5](#task5) (0.5 points)\n",
    "* [Task 6](#task6) (2 points)\n",
    "* [Task 7](#task7) (0.5 points)\n",
    "* [Task 8](#task8) (0.5 points)\n",
    "\n",
    "#### Ensembles - 3 points\n",
    "* [Task 1](#task2_1) (1 point)\n",
    "* [Task 2](#task2_2) (0.7 points)\n",
    "* [Task 3](#task2_3) (0.5 points)\n",
    "* [Task 4](#task2_4) (0.7 points)\n",
    "* [Task 5](#task2_5) (0.1 points)"
   ],
   "metadata": {
    "collapsed": false,
    "pycharm": {
     "name": "#%% md\n"
    }
   }
  },
  {
   "cell_type": "code",
   "execution_count": 95,
   "outputs": [],
   "source": [
    "import matplotlib.pyplot as plt\n",
    "import numpy as np\n",
    "import pandas as pd\n",
    "from sklearn.datasets import load_boston\n",
    "from sklearn.model_selection import train_test_split\n",
    "from sklearn.model_selection import GridSearchCV\n",
    "\n",
    "\n",
    "plt.rcParams['figure.figsize'] = (11, 5)\n",
    "%matplotlib inline"
   ],
   "metadata": {
    "collapsed": false,
    "pycharm": {
     "name": "#%%\n"
    }
   }
  },
  {
   "cell_type": "markdown",
   "source": [
    "# Part 1. Decision Tree Regressor"
   ],
   "metadata": {
    "collapsed": false,
    "pycharm": {
     "name": "#%% md\n"
    }
   }
  },
  {
   "cell_type": "markdown",
   "source": [
    "In this task you will be implementing decision tree for the regression by hand."
   ],
   "metadata": {
    "collapsed": false,
    "pycharm": {
     "name": "#%% md\n"
    }
   }
  },
  {
   "cell_type": "markdown",
   "source": [
    "### Task 1 <a id=\"task1\"></a> (0.5 points)\n",
    "\n",
    "Here you should implement the function `H()` which calculates impurity criterion. We will be training regression tree, and will take mean absolute deviation as impurity criterion.\n",
    "\n",
    "* You cannot use loops\n",
    "* If `y` is empty, the function should return 0"
   ],
   "metadata": {
    "collapsed": false,
    "pycharm": {
     "name": "#%% md\n"
    }
   }
  },
  {
   "cell_type": "code",
   "execution_count": 96,
   "outputs": [],
   "source": [
    "def H(y):\n",
    "    \"\"\"\n",
    "    Calculate impurity criterion\n",
    "\n",
    "    Parameters\n",
    "    ----------\n",
    "    y : np.array\n",
    "        array of objects target values in the node\n",
    "\n",
    "    Returns\n",
    "    -------\n",
    "    H(R) : float\n",
    "        Impurity in the node (measuread by variance)\n",
    "    \"\"\"\n",
    "    # YOUR CODE HERE\n",
    "    if len(y) == 0:\n",
    "        return 0\n",
    "    else:\n",
    "        return np.sum(np.power((y - np.mean(y)), 2)) / len(y) #variance"
   ],
   "metadata": {
    "collapsed": false,
    "pycharm": {
     "name": "#%%\n"
    }
   }
  },
  {
   "cell_type": "code",
   "execution_count": 97,
   "outputs": [],
   "source": [
    "# Test the function\n",
    "assert np.allclose(H(np.array([4, 2, 2, 2])), 0.75)\n",
    "assert np.allclose(H(np.array([])), 0.0)"
   ],
   "metadata": {
    "collapsed": false,
    "pycharm": {
     "name": "#%%\n"
    }
   }
  },
  {
   "cell_type": "markdown",
   "source": [
    "### Task 2 <a id=\"task2\"></a>  (0.5 points)\n",
    "\n",
    "To find the best split in the node we need to calculate the cost function. Denote:\n",
    "- `R` all the object in the node\n",
    "- `j` index of the feature selected for the split\n",
    "- `t` threshold\n",
    "- `R_l` and `R_r` objects in the left and right child nodes correspondingly\n",
    "\n",
    "We get the following cost function:\n",
    "\n",
    "$$\n",
    "Q(R, j, t) =\\frac{|R_\\ell|}{|R|}H(R_\\ell) + \\frac{|R_r|}{|R|}H(R_r) \\to \\min_{j, t},\n",
    "$$\n",
    "\n",
    "Implement the function `Q`, which should calculate value of the cost function for a given feature and threshold."
   ],
   "metadata": {
    "collapsed": false,
    "pycharm": {
     "name": "#%% md\n"
    }
   }
  },
  {
   "cell_type": "code",
   "execution_count": 98,
   "outputs": [],
   "source": [
    "def Q(X, y, j, t):\n",
    "    \"\"\"\n",
    "    Calculate cost function\n",
    "    Parameters\n",
    "    ----------\n",
    "    X : ndarray\n",
    "        array of objects in the node\n",
    "    y : ndarray\n",
    "        array of target values in the node\n",
    "    j : int\n",
    "        feature index (column in X)\n",
    "    t : float\n",
    "        threshold\n",
    "\n",
    "    Returns\n",
    "    -------\n",
    "    Q : float\n",
    "        Value of the cost function\n",
    "    \"\"\"\n",
    "    # YOUR CODE HERE\n",
    "    x_col = X[:, j]\n",
    "\n",
    "    R_l = y[x_col <= t]\n",
    "    R_r = y[x_col > t]\n",
    "    tmp_r = H(R_r) / len(y)\n",
    "    tmp_l = H(R_l) / len(y)\n",
    "    Q = 0\n",
    "    return len(R_l) * tmp_l + len(R_r) * tmp_r\n",
    "    # return Q"
   ],
   "metadata": {
    "collapsed": false,
    "pycharm": {
     "name": "#%%\n"
    }
   }
  },
  {
   "cell_type": "markdown",
   "source": [
    "### Task 3 <a id=\"task3\"></a>  (2 points)\n",
    "\n",
    "Now, let's implement `MyDecisionTreeRegressor` class. More specifically, you need to implement the following methods:\n",
    "\n",
    "- `best_split`\n",
    "- `grow_tree`\n",
    "- `get_prediction`\n",
    "\n",
    "Also, please add `min_samples_leaf` parameter to your class\n",
    "\n",
    "Read docstrings for more details. Do not forget to use function `Q` implemented above, when finding the `best_split`"
   ],
   "metadata": {
    "collapsed": false,
    "pycharm": {
     "name": "#%% md\n"
    }
   }
  },
  {
   "cell_type": "code",
   "execution_count": 99,
   "outputs": [],
   "source": [
    "class Node(object):\n",
    "    \"\"\"\n",
    "    Class for a decision tree node.\n",
    "\n",
    "    Parameters\n",
    "    ----------\n",
    "    right : Node() or None\n",
    "        Right child\n",
    "    right : Node() or None\n",
    "        Left child\n",
    "    threshold: float\n",
    "\n",
    "    column: int\n",
    "\n",
    "    depth: int\n",
    "\n",
    "    prediction: float\n",
    "        prediction of the target value in the node\n",
    "        (average values calculated on a train dataset)\n",
    "    is_terminal:bool\n",
    "        indicates whether it is a terminal node (leaf) or not\n",
    "    \"\"\"\n",
    "    def __init__(self):\n",
    "        self.right = None\n",
    "        self.left = None\n",
    "        self.threshold = None\n",
    "        self.column = None\n",
    "        self.depth = None\n",
    "        self.is_terminal = False\n",
    "        self.prediction = None\n",
    "\n",
    "    def __repr__(self):\n",
    "        if self.is_terminal:\n",
    "            node_desc = 'Pred: {:.2f}'.format(self.prediction)\n",
    "        else:\n",
    "            node_desc = 'Col {}, t {:.2f}, Pred: {:.2f}'. \\\n",
    "            format(self.column, self.threshold, self.prediction)\n",
    "        return node_desc"
   ],
   "metadata": {
    "collapsed": false,
    "pycharm": {
     "name": "#%%\n"
    }
   }
  },
  {
   "cell_type": "code",
   "execution_count": 100,
   "outputs": [],
   "source": [
    "from sklearn.base import BaseEstimator, RegressorMixin\n",
    "from sklearn.utils.validation import check_X_y, check_array, check_is_fitted\n",
    "\n",
    "class MyDecisionTreeRegressor(RegressorMixin, BaseEstimator):\n",
    "    \"\"\"\n",
    "    Class for a Decision Tree Regressor.\n",
    "\n",
    "    Parameters\n",
    "    ----------\n",
    "    max_depth : int\n",
    "        Max depth of a decision tree.\n",
    "    min_samples_split : int\n",
    "        Minimal number of samples (objects) in a node to make a split.\n",
    "    \"\"\"\n",
    "    def __init__(self, max_depth=3, min_samples_split=2, min_samples_leaf=1):\n",
    "        self.max_depth = max_depth\n",
    "        self.min_samples_split = min_samples_split\n",
    "        self.min_samples_leaf = min_samples_leaf\n",
    "\n",
    "    def best_split(self, X, y):\n",
    "        \"\"\"\n",
    "        Find the best split in terms of Q of data in a given decision tree node.\n",
    "        Try all features and thresholds.\n",
    "\n",
    "        Parameters\n",
    "        ----------\n",
    "        X : ndarray, shape (n_objects, n_features)\n",
    "            Objects in the parent node\n",
    "        y : ndarray, shape (n_objects, )\n",
    "            1D array with the object labels.\n",
    "\n",
    "        Returns\n",
    "        -------\n",
    "        best_split_column : int\n",
    "            Index of the best split column\n",
    "        best_threshold : float\n",
    "            The best split condition.\n",
    "        X_left : ndarray, shape (n_objects_l, n_features)\n",
    "            Objects in the left child\n",
    "        y_left : ndarray, shape (n_objects_l, )\n",
    "            Objects labels in the left child.\n",
    "        X_right : ndarray, shape (n_objects_r, n_features)\n",
    "            Objects in the right child\n",
    "        y_right : ndarray, shape (n_objects_r, )\n",
    "            Objects labels in the right child.\n",
    "        \"\"\"\n",
    "\n",
    "        # To store best split parameters\n",
    "        best_split_column = None\n",
    "        best_threshold = None\n",
    "        best_cost = H(y)\n",
    "        best_information_gain = -999\n",
    "\n",
    "        # Data impurity before the split\n",
    "        # impurity = 0.8 (example)\n",
    "\n",
    "        # For each column in X ...\n",
    "        for split_column in range(X.shape[1]):\n",
    "\n",
    "            # Select values of the column\n",
    "            x_col = X[:, split_column]\n",
    "            # x_col = [2.6, 1.3, 0.5, ...] (example)\n",
    "\n",
    "            # For each value in the column ...\n",
    "            for i_x in range(0, len(x_col)):\n",
    "\n",
    "                # Take the value as a threshold for a split\n",
    "                threshold = x_col[i_x]\n",
    "                # threshold = 1.3 (example)\n",
    "\n",
    "                # Make the split into right and left childs\n",
    "                information_gain = best_cost - Q(X, y, split_column, threshold)\n",
    "                # information_gain = 0.2 (example)\n",
    "\n",
    "                # Is this information_gain the best?\n",
    "                if information_gain > best_information_gain:\n",
    "                    best_split_column = split_column\n",
    "                    best_threshold = threshold\n",
    "                    best_information_gain = information_gain\n",
    "\n",
    "        # If no split available\n",
    "        if best_information_gain == -999:\n",
    "            return None, None, None, None, None, None\n",
    "\n",
    "        # Take the best split parameters and make this split\n",
    "        x_col = X[:, best_split_column]\n",
    "        X_left = X[x_col <= best_threshold, :]\n",
    "        y_left = y[x_col <= best_threshold]\n",
    "        X_right = X[x_col > best_threshold, :]\n",
    "        y_right = y[x_col > best_threshold]\n",
    "\n",
    "        return best_split_column, best_threshold, X_left, y_left, X_right, y_right\n",
    "\n",
    "    def is_terminal(self, node, y):\n",
    "        \"\"\"\n",
    "        Check terminality conditions based on `max_depth`,\n",
    "        `min_samples_split` parameters for a given node.\n",
    "\n",
    "        Parameters\n",
    "        ----------\n",
    "        node : Node,\n",
    "\n",
    "        y : ndarray, shape (n_objects, )\n",
    "            Object labels.\n",
    "\n",
    "        Returns\n",
    "        -------\n",
    "        Is_termial : bool\n",
    "            If True, node is terminal\n",
    "        \"\"\"\n",
    "        if node.depth >= self.max_depth:\n",
    "            return True\n",
    "        if len(y) < self.min_samples_split:\n",
    "            return True\n",
    "        return False\n",
    "\n",
    "    def grow_tree(self, node, X, y):\n",
    "        \"\"\"\n",
    "        Reccurently grow the tree from the `node` using a `X` and `y` as a dataset:\n",
    "         - check terminality conditions\n",
    "         - find best split if node is not terminal\n",
    "         - add child nodes to the node\n",
    "         - call the function recursively for the added child nodes\n",
    "\n",
    "        Parameters\n",
    "        ----------\n",
    "        node : Node() object\n",
    "            Current node of the decision tree.\n",
    "        X : ndarray, shape (n_objects, n_features)\n",
    "            Objects\n",
    "        y : ndarray, shape (n_objects)\n",
    "            Labels\n",
    "        \"\"\"\n",
    "\n",
    "        if self.is_terminal(node, y):\n",
    "            node.is_terminal =True\n",
    "            return\n",
    "\n",
    "        # Check termination conditions\n",
    "        if len(np.unique(y)) == 1:\n",
    "            node.is_terminal = True\n",
    "            return\n",
    "\n",
    "        # Make best split\n",
    "        split_column, threshold, X_left, y_left, X_right, y_right = self.best_split(X, y) # Make a split\n",
    "        # split_column = 2 (exmaple) column index of the split\n",
    "        # threshold = 2.74 (example) split_column > threshold\n",
    "\n",
    "        # Check additional termination conditions\n",
    "        if split_column is None:\n",
    "            node.is_terminal = True\n",
    "            return\n",
    "        if len(X_left) < self.min_samples_leaf or len(X_right) < self.min_samples_leaf:  # min_samples_leaf check\n",
    "            node.is_terminal = True\n",
    "            return\n",
    "\n",
    "\n",
    "        # Add split parameters into the current node\n",
    "        node.column = split_column\n",
    "        node.threshold = threshold\n",
    "\n",
    "        # Create a left child of the current node\n",
    "        node.left = Node()\n",
    "        node.left.depth = node.depth + 1\n",
    "        node.left.prediction = np.mean(y_left)\n",
    "\n",
    "        # Create a right child of the current node\n",
    "        node.right = Node()\n",
    "        node.right.depth = node.depth + 1\n",
    "        node.right.prediction = np.mean(y_right)\n",
    "\n",
    "        # Make splits for the left and right nodes\n",
    "        self.grow_tree(node.right, X_right, y_right)\n",
    "        self.grow_tree(node.left, X_left, y_left)\n",
    "\n",
    "\n",
    "    def fit(self, X, y):\n",
    "        \"\"\"\n",
    "        Fit the Decision Tree Regressor.\n",
    "\n",
    "        Parameters\n",
    "        ----------\n",
    "        X : ndarray, shape (n_samples, n_features)\n",
    "            The input samples.\n",
    "        y : ndarray, shape (n_samples,) or (n_samples, n_outputs)\n",
    "            The target values.\n",
    "        Returns\n",
    "        -------\n",
    "        self : object\n",
    "            Returns self.\n",
    "        \"\"\"\n",
    "        X, y = check_X_y(X, y, accept_sparse=False)\n",
    "        self.is_fitted_ = True\n",
    "\n",
    "        # Initialize the tree (root node)\n",
    "        self.tree_ = Node()\n",
    "        self.tree_.depth = 0\n",
    "        self.tree_.prediction = np.mean(y)\n",
    "\n",
    "        # Grow the tree\n",
    "        self.grow_tree(self.tree_, X, y)\n",
    "        return self\n",
    "\n",
    "    def get_prediction(self, node, x):\n",
    "        \"\"\"\n",
    "        Get prediction for an object `x`\n",
    "            - Return prediction of the `node` if it is terminal\n",
    "            - Otherwise, recursively call the function to get\n",
    "            predictions of the proper child\n",
    "\n",
    "        Parameters\n",
    "        ----------\n",
    "        node : Node() object\n",
    "            Current node of the decision tree.\n",
    "        x : ndarray, shape (n_features,)\n",
    "            Array of feature values of one object.\n",
    "        Returns\n",
    "        -------\n",
    "        y_pred : float\n",
    "            Prediction for an object x\n",
    "        \"\"\"\n",
    "        # YOUR CODE HERE\n",
    "\n",
    "        if node.is_terminal:\n",
    "            return node.prediction\n",
    "        if x[node.column] > node.threshold:\n",
    "            y_pred = self.get_prediction(node.right, x)\n",
    "        else:\n",
    "            y_pred = self.get_prediction(node.left, x)\n",
    "        return y_pred\n",
    "\n",
    "    def predict(self, X):\n",
    "        \"\"\"\n",
    "        Get prediction for each object in X\n",
    "\n",
    "        Parameters\n",
    "        ----------\n",
    "        X : ndarray, shape (n_samples, n_features)\n",
    "            The input samples.\n",
    "        Returns\n",
    "        -------\n",
    "        y : ndarray, shape (n_samples,)\n",
    "            Returns predictions.\n",
    "        \"\"\"\n",
    "        # Check input and that `fit` had been called\n",
    "        X = check_array(X, accept_sparse=False)\n",
    "        check_is_fitted(self, 'is_fitted_')\n",
    "\n",
    "        # Get predictions\n",
    "        y_predicted = []\n",
    "        for x in X:\n",
    "            y_curr = self.get_prediction(self.tree_, x)\n",
    "            y_predicted.append(y_curr)\n",
    "        return np.array(y_predicted)"
   ],
   "metadata": {
    "collapsed": false,
    "pycharm": {
     "name": "#%%\n"
    }
   }
  },
  {
   "cell_type": "code",
   "execution_count": 101,
   "outputs": [
    {
     "name": "stderr",
     "output_type": "stream",
     "text": [
      "C:\\Users\\ASUS\\anaconda3\\lib\\site-packages\\sklearn\\utils\\estimator_checks.py:3608: FutureWarning: As of scikit-learn 0.23, estimators should expose a n_features_in_ attribute, unless the 'no_validation' tag is True. This attribute should be equal to the number of features passed to the fit method. An error will be raised from version 1.0 (renaming of 0.25) when calling check_estimator(). See SLEP010: https://scikit-learn-enhancement-proposals.readthedocs.io/en/latest/slep010/proposal.html\n",
      "  warnings.warn(\n",
      "C:\\Users\\ASUS\\anaconda3\\lib\\site-packages\\sklearn\\utils\\estimator_checks.py:3652: FutureWarning: As of scikit-learn 0.23, estimators should have a 'requires_y' tag set to the appropriate value. The default value of the tag is False. An error will be raised from version 1.0 when calling check_estimator() if the tag isn't properly set.\n",
      "  warnings.warn(warning_msg, FutureWarning)\n"
     ]
    }
   ],
   "source": [
    "# check yourself\n",
    "from sklearn.utils.estimator_checks import check_estimator\n",
    "\n",
    "check_estimator(MyDecisionTreeRegressor())"
   ],
   "metadata": {
    "collapsed": false,
    "pycharm": {
     "name": "#%%\n"
    }
   }
  },
  {
   "cell_type": "markdown",
   "source": [
    "### Task 4 <a id=\"task4\"></a>  (0.5 points)\n",
    "\n",
    "Load boston dataset and split it on the train ($75\\%$) and test ($25\\%$). Fit Decision Tree of depth 1 and make the following plot:\n",
    "\n",
    "- Scatter plot of the traning points (selected for split feature on the x-axis, target variable on the y-axis)\n",
    "- Fitted model"
   ],
   "metadata": {
    "collapsed": false,
    "pycharm": {
     "name": "#%% md\n"
    }
   }
  },
  {
   "cell_type": "code",
   "execution_count": 102,
   "outputs": [
    {
     "name": "stderr",
     "output_type": "stream",
     "text": [
      "C:\\Users\\ASUS\\anaconda3\\lib\\site-packages\\sklearn\\utils\\deprecation.py:87: FutureWarning: Function load_boston is deprecated; `load_boston` is deprecated in 1.0 and will be removed in 1.2.\n",
      "\n",
      "    The Boston housing prices dataset has an ethical problem. You can refer to\n",
      "    the documentation of this function for further details.\n",
      "\n",
      "    The scikit-learn maintainers therefore strongly discourage the use of this\n",
      "    dataset unless the purpose of the code is to study and educate about\n",
      "    ethical issues in data science and machine learning.\n",
      "\n",
      "    In this special case, you can fetch the dataset from the original\n",
      "    source::\n",
      "\n",
      "        import pandas as pd\n",
      "        import numpy as np\n",
      "\n",
      "\n",
      "        data_url = \"http://lib.stat.cmu.edu/datasets/boston\"\n",
      "        raw_df = pd.read_csv(data_url, sep=\"\\s+\", skiprows=22, header=None)\n",
      "        data = np.hstack([raw_df.values[::2, :], raw_df.values[1::2, :2]])\n",
      "        target = raw_df.values[1::2, 2]\n",
      "\n",
      "    Alternative datasets include the California housing dataset (i.e.\n",
      "    :func:`~sklearn.datasets.fetch_california_housing`) and the Ames housing\n",
      "    dataset. You can load the datasets as follows::\n",
      "\n",
      "        from sklearn.datasets import fetch_california_housing\n",
      "        housing = fetch_california_housing()\n",
      "\n",
      "    for the California housing dataset and::\n",
      "\n",
      "        from sklearn.datasets import fetch_openml\n",
      "        housing = fetch_openml(name=\"house_prices\", as_frame=True)\n",
      "\n",
      "    for the Ames housing dataset.\n",
      "    \n",
      "  warnings.warn(msg, category=FutureWarning)\n"
     ]
    }
   ],
   "source": [
    "data = load_boston()\n",
    "features_train, features_test, target_train, target_test = train_test_split(data.data, data.target, test_size = 0.25, random_state = 12345)"
   ],
   "metadata": {
    "collapsed": false,
    "pycharm": {
     "name": "#%%\n"
    }
   }
  },
  {
   "cell_type": "code",
   "execution_count": 103,
   "outputs": [
    {
     "data": {
      "text/plain": "MyDecisionTreeRegressor(max_depth=1)"
     },
     "execution_count": 103,
     "metadata": {},
     "output_type": "execute_result"
    }
   ],
   "source": [
    "model_tree = MyDecisionTreeRegressor(max_depth=1)\n",
    "model_tree.fit(features_train, target_train)"
   ],
   "metadata": {
    "collapsed": false,
    "pycharm": {
     "name": "#%%\n"
    }
   }
  },
  {
   "cell_type": "code",
   "execution_count": 104,
   "outputs": [
    {
     "data": {
      "text/plain": "<Figure size 720x504 with 1 Axes>",
      "image/png": "[encoded data removed]"
     },
     "metadata": {
      "needs_background": "light"
     },
     "output_type": "display_data"
    }
   ],
   "source": [
    "model_tree_predicted = model_tree.predict(features_train)\n",
    "tmp_col = features_train[:, model_tree.tree_.column]\n",
    "\n",
    "plt.gcf().set_size_inches(10, 7);\n",
    "\n",
    "plt.scatter(features_train[tmp_col <= model_tree.tree_.threshold][:, model_tree.tree_.column], target_train[tmp_col <= model_tree.tree_.threshold], color='red')\n",
    "\n",
    "plt.scatter(features_train[tmp_col > model_tree.tree_.threshold][:, model_tree.tree_.column], target_train[tmp_col > model_tree.tree_.threshold], color='green')\n",
    "\n",
    "plt.scatter(features_train[tmp_col <= model_tree.tree_.threshold][:, model_tree.tree_.column], model_tree_predicted[tmp_col <= model_tree.tree_.threshold], color ='black')\n",
    "\n",
    "plt.scatter(features_train[tmp_col > model_tree.tree_.threshold][:, model_tree.tree_.column], model_tree_predicted[tmp_col > model_tree.tree_.threshold], color ='yellow')\n",
    "\n",
    "plt.axvline(model_tree.tree_.threshold, color = 'blue');"
   ],
   "metadata": {
    "collapsed": false,
    "pycharm": {
     "name": "#%%\n"
    }
   }
  },
  {
   "cell_type": "code",
   "execution_count": 104,
   "outputs": [],
   "source": [],
   "metadata": {
    "collapsed": false,
    "pycharm": {
     "name": "#%%\n"
    }
   }
  },
  {
   "cell_type": "code",
   "execution_count": 105,
   "outputs": [
    {
     "name": "stderr",
     "output_type": "stream",
     "text": [
      "No artists with labels found to put in legend.  Note that artists whose label start with an underscore are ignored when legend() is called with no argument.\n"
     ]
    },
    {
     "data": {
      "text/plain": "<Figure size 432x288 with 1 Axes>",
      "image/png": "[encoded data removed]"
     },
     "metadata": {
      "needs_background": "light"
     },
     "output_type": "display_data"
    }
   ],
   "source": [
    "#from sklearn import tree\n",
    "#plt.figure(figsize=(70, 70))\n",
    "#tree.plot_tree(model_tree)\n",
    "#plt.show()\n",
    "from sklearn.metrics import accuracy_score, f1_score\n",
    "\n",
    "# Plot the results\n",
    "plt.figure()\n",
    "plt.plot(features_train, model_tree_predicted,\"o\", color=\"cornflowerblue\", linewidth=2)\n",
    "plt.xlabel(\"data\")\n",
    "plt.ylabel(\"target\")\n",
    "plt.title(\"Decision Tree Regression\")\n",
    "plt.legend()\n",
    "plt.show()"
   ],
   "metadata": {
    "collapsed": false,
    "pycharm": {
     "name": "#%%\n"
    }
   }
  },
  {
   "cell_type": "markdown",
   "source": [
    "### Task 5 <a id=\"task5\"></a>  (0.5 points)\n",
    "\n",
    "Keep working with boston dataset.\n",
    "- Use `GridSearchCV` to find the best hyperparameters among [`max_depth`, `min_samples_leaf`] on 5-Fold cross-validation\n",
    "- Train the model with the best set of hyperparameters on the whole train dataset.\n",
    "- Report `MAE` on test dataset and hyperparameters of the best estimator."
   ],
   "metadata": {
    "collapsed": false,
    "pycharm": {
     "name": "#%% md\n"
    }
   }
  },
  {
   "cell_type": "code",
   "execution_count": 106,
   "outputs": [
    {
     "name": "stdout",
     "output_type": "stream",
     "text": [
      "Fitting 5 folds for each of 100 candidates, totalling 500 fits\n",
      "[CV 1/5] END ..max_depth=0, min_samples_leaf=0;, score=-7.454 total time=   0.0s\n",
      "[CV 2/5] END ..max_depth=0, min_samples_leaf=0;, score=-6.898 total time=   0.0s\n",
      "[CV 3/5] END ..max_depth=0, min_samples_leaf=0;, score=-7.502 total time=   0.0s\n",
      "[CV 4/5] END ..max_depth=0, min_samples_leaf=0;, score=-5.827 total time=   0.0s\n",
      "[CV 5/5] END ..max_depth=0, min_samples_leaf=0;, score=-7.347 total time=   0.0s\n",
      "[CV 1/5] END ..max_depth=0, min_samples_leaf=1;, score=-7.454 total time=   0.0s\n",
      "[CV 2/5] END ..max_depth=0, min_samples_leaf=1;, score=-6.898 total time=   0.0s\n",
      "[CV 3/5] END ..max_depth=0, min_samples_leaf=1;, score=-7.502 total time=   0.0s\n",
      "[CV 4/5] END ..max_depth=0, min_samples_leaf=1;, score=-5.827 total time=   0.0s\n",
      "[CV 5/5] END ..max_depth=0, min_samples_leaf=1;, score=-7.347 total time=   0.0s\n",
      "[CV 1/5] END ..max_depth=0, min_samples_leaf=2;, score=-7.454 total time=   0.0s\n",
      "[CV 2/5] END ..max_depth=0, min_samples_leaf=2;, score=-6.898 total time=   0.0s\n",
      "[CV 3/5] END ..max_depth=0, min_samples_leaf=2;, score=-7.502 total time=   0.0s\n",
      "[CV 4/5] END ..max_depth=0, min_samples_leaf=2;, score=-5.827 total time=   0.0s\n",
      "[CV 5/5] END ..max_depth=0, min_samples_leaf=2;, score=-7.347 total time=   0.0s\n",
      "[CV 1/5] END ..max_depth=0, min_samples_leaf=3;, score=-7.454 total time=   0.0s\n",
      "[CV 2/5] END ..max_depth=0, min_samples_leaf=3;, score=-6.898 total time=   0.0s\n",
      "[CV 3/5] END ..max_depth=0, min_samples_leaf=3;, score=-7.502 total time=   0.0s\n",
      "[CV 4/5] END ..max_depth=0, min_samples_leaf=3;, score=-5.827 total time=   0.0s\n",
      "[CV 5/5] END ..max_depth=0, min_samples_leaf=3;, score=-7.347 total time=   0.0s\n",
      "[CV 1/5] END ..max_depth=0, min_samples_leaf=4;, score=-7.454 total time=   0.0s\n",
      "[CV 2/5] END ..max_depth=0, min_samples_leaf=4;, score=-6.898 total time=   0.0s\n",
      "[CV 3/5] END ..max_depth=0, min_samples_leaf=4;, score=-7.502 total time=   0.0s\n",
      "[CV 4/5] END ..max_depth=0, min_samples_leaf=4;, score=-5.827 total time=   0.0s\n",
      "[CV 5/5] END ..max_depth=0, min_samples_leaf=4;, score=-7.347 total time=   0.0s\n",
      "[CV 1/5] END ..max_depth=0, min_samples_leaf=5;, score=-7.454 total time=   0.0s\n",
      "[CV 2/5] END ..max_depth=0, min_samples_leaf=5;, score=-6.898 total time=   0.0s\n",
      "[CV 3/5] END ..max_depth=0, min_samples_leaf=5;, score=-7.502 total time=   0.0s\n",
      "[CV 4/5] END ..max_depth=0, min_samples_leaf=5;, score=-5.827 total time=   0.0s\n",
      "[CV 5/5] END ..max_depth=0, min_samples_leaf=5;, score=-7.347 total time=   0.0s\n",
      "[CV 1/5] END ..max_depth=0, min_samples_leaf=6;, score=-7.454 total time=   0.0s\n",
      "[CV 2/5] END ..max_depth=0, min_samples_leaf=6;, score=-6.898 total time=   0.0s\n",
      "[CV 3/5] END ..max_depth=0, min_samples_leaf=6;, score=-7.502 total time=   0.0s\n",
      "[CV 4/5] END ..max_depth=0, min_samples_leaf=6;, score=-5.827 total time=   0.0s\n",
      "[CV 5/5] END ..max_depth=0, min_samples_leaf=6;, score=-7.347 total time=   0.0s\n",
      "[CV 1/5] END ..max_depth=0, min_samples_leaf=7;, score=-7.454 total time=   0.0s\n",
      "[CV 2/5] END ..max_depth=0, min_samples_leaf=7;, score=-6.898 total time=   0.0s\n",
      "[CV 3/5] END ..max_depth=0, min_samples_leaf=7;, score=-7.502 total time=   0.0s\n",
      "[CV 4/5] END ..max_depth=0, min_samples_leaf=7;, score=-5.827 total time=   0.0s\n",
      "[CV 5/5] END ..max_depth=0, min_samples_leaf=7;, score=-7.347 total time=   0.0s\n",
      "[CV 1/5] END ..max_depth=0, min_samples_leaf=8;, score=-7.454 total time=   0.0s\n",
      "[CV 2/5] END ..max_depth=0, min_samples_leaf=8;, score=-6.898 total time=   0.0s\n",
      "[CV 3/5] END ..max_depth=0, min_samples_leaf=8;, score=-7.502 total time=   0.0s\n",
      "[CV 4/5] END ..max_depth=0, min_samples_leaf=8;, score=-5.827 total time=   0.0s\n",
      "[CV 5/5] END ..max_depth=0, min_samples_leaf=8;, score=-7.347 total time=   0.0s\n",
      "[CV 1/5] END ..max_depth=0, min_samples_leaf=9;, score=-7.454 total time=   0.0s\n",
      "[CV 2/5] END ..max_depth=0, min_samples_leaf=9;, score=-6.898 total time=   0.0s\n",
      "[CV 3/5] END ..max_depth=0, min_samples_leaf=9;, score=-7.502 total time=   0.0s\n",
      "[CV 4/5] END ..max_depth=0, min_samples_leaf=9;, score=-5.827 total time=   0.0s\n",
      "[CV 5/5] END ..max_depth=0, min_samples_leaf=9;, score=-7.347 total time=   0.0s\n",
      "[CV 1/5] END ..max_depth=1, min_samples_leaf=0;, score=-5.457 total time=   0.4s\n",
      "[CV 2/5] END ..max_depth=1, min_samples_leaf=0;, score=-5.343 total time=   0.3s\n",
      "[CV 3/5] END ..max_depth=1, min_samples_leaf=0;, score=-5.269 total time=   0.4s\n",
      "[CV 4/5] END ..max_depth=1, min_samples_leaf=0;, score=-5.043 total time=   0.4s\n",
      "[CV 5/5] END ..max_depth=1, min_samples_leaf=0;, score=-5.454 total time=   0.4s\n",
      "[CV 1/5] END ..max_depth=1, min_samples_leaf=1;, score=-5.457 total time=   0.5s\n",
      "[CV 2/5] END ..max_depth=1, min_samples_leaf=1;, score=-5.343 total time=   0.4s\n",
      "[CV 3/5] END ..max_depth=1, min_samples_leaf=1;, score=-5.269 total time=   0.4s\n",
      "[CV 4/5] END ..max_depth=1, min_samples_leaf=1;, score=-5.043 total time=   0.3s\n",
      "[CV 5/5] END ..max_depth=1, min_samples_leaf=1;, score=-5.454 total time=   0.3s\n",
      "[CV 1/5] END ..max_depth=1, min_samples_leaf=2;, score=-5.457 total time=   0.3s\n",
      "[CV 2/5] END ..max_depth=1, min_samples_leaf=2;, score=-5.343 total time=   0.4s\n",
      "[CV 3/5] END ..max_depth=1, min_samples_leaf=2;, score=-5.269 total time=   0.3s\n",
      "[CV 4/5] END ..max_depth=1, min_samples_leaf=2;, score=-5.043 total time=   0.3s\n",
      "[CV 5/5] END ..max_depth=1, min_samples_leaf=2;, score=-5.454 total time=   0.2s\n",
      "[CV 1/5] END ..max_depth=1, min_samples_leaf=3;, score=-5.457 total time=   0.3s\n",
      "[CV 2/5] END ..max_depth=1, min_samples_leaf=3;, score=-5.343 total time=   0.2s\n",
      "[CV 3/5] END ..max_depth=1, min_samples_leaf=3;, score=-5.269 total time=   0.2s\n",
      "[CV 4/5] END ..max_depth=1, min_samples_leaf=3;, score=-5.043 total time=   0.2s\n",
      "[CV 5/5] END ..max_depth=1, min_samples_leaf=3;, score=-5.454 total time=   0.2s\n",
      "[CV 1/5] END ..max_depth=1, min_samples_leaf=4;, score=-5.457 total time=   0.2s\n",
      "[CV 2/5] END ..max_depth=1, min_samples_leaf=4;, score=-5.343 total time=   0.3s\n",
      "[CV 3/5] END ..max_depth=1, min_samples_leaf=4;, score=-5.269 total time=   0.4s\n",
      "[CV 4/5] END ..max_depth=1, min_samples_leaf=4;, score=-5.043 total time=   0.4s\n",
      "[CV 5/5] END ..max_depth=1, min_samples_leaf=4;, score=-5.454 total time=   0.3s\n",
      "[CV 1/5] END ..max_depth=1, min_samples_leaf=5;, score=-5.457 total time=   0.3s\n",
      "[CV 2/5] END ..max_depth=1, min_samples_leaf=5;, score=-5.343 total time=   0.3s\n",
      "[CV 3/5] END ..max_depth=1, min_samples_leaf=5;, score=-5.269 total time=   0.5s\n",
      "[CV 4/5] END ..max_depth=1, min_samples_leaf=5;, score=-5.043 total time=   0.4s\n",
      "[CV 5/5] END ..max_depth=1, min_samples_leaf=5;, score=-5.454 total time=   0.4s\n",
      "[CV 1/5] END ..max_depth=1, min_samples_leaf=6;, score=-5.457 total time=   0.4s\n",
      "[CV 2/5] END ..max_depth=1, min_samples_leaf=6;, score=-5.343 total time=   0.4s\n",
      "[CV 3/5] END ..max_depth=1, min_samples_leaf=6;, score=-5.269 total time=   0.5s\n",
      "[CV 4/5] END ..max_depth=1, min_samples_leaf=6;, score=-5.043 total time=   0.3s\n",
      "[CV 5/5] END ..max_depth=1, min_samples_leaf=6;, score=-5.454 total time=   0.3s\n",
      "[CV 1/5] END ..max_depth=1, min_samples_leaf=7;, score=-5.457 total time=   0.3s\n",
      "[CV 2/5] END ..max_depth=1, min_samples_leaf=7;, score=-5.343 total time=   0.3s\n",
      "[CV 3/5] END ..max_depth=1, min_samples_leaf=7;, score=-5.269 total time=   0.3s\n",
      "[CV 4/5] END ..max_depth=1, min_samples_leaf=7;, score=-5.043 total time=   0.3s\n",
      "[CV 5/5] END ..max_depth=1, min_samples_leaf=7;, score=-5.454 total time=   0.3s\n",
      "[CV 1/5] END ..max_depth=1, min_samples_leaf=8;, score=-5.457 total time=   0.3s\n",
      "[CV 2/5] END ..max_depth=1, min_samples_leaf=8;, score=-5.343 total time=   0.3s\n",
      "[CV 3/5] END ..max_depth=1, min_samples_leaf=8;, score=-5.269 total time=   0.3s\n",
      "[CV 4/5] END ..max_depth=1, min_samples_leaf=8;, score=-5.043 total time=   0.3s\n",
      "[CV 5/5] END ..max_depth=1, min_samples_leaf=8;, score=-5.454 total time=   0.3s\n",
      "[CV 1/5] END ..max_depth=1, min_samples_leaf=9;, score=-5.457 total time=   0.2s\n",
      "[CV 2/5] END ..max_depth=1, min_samples_leaf=9;, score=-5.343 total time=   0.2s\n",
      "[CV 3/5] END ..max_depth=1, min_samples_leaf=9;, score=-5.269 total time=   0.2s\n",
      "[CV 4/5] END ..max_depth=1, min_samples_leaf=9;, score=-5.043 total time=   0.2s\n",
      "[CV 5/5] END ..max_depth=1, min_samples_leaf=9;, score=-5.454 total time=   0.2s\n",
      "[CV 1/5] END ..max_depth=2, min_samples_leaf=0;, score=-3.778 total time=   0.5s\n",
      "[CV 2/5] END ..max_depth=2, min_samples_leaf=0;, score=-3.561 total time=   0.5s\n",
      "[CV 3/5] END ..max_depth=2, min_samples_leaf=0;, score=-4.541 total time=   0.5s\n",
      "[CV 4/5] END ..max_depth=2, min_samples_leaf=0;, score=-3.376 total time=   0.5s\n",
      "[CV 5/5] END ..max_depth=2, min_samples_leaf=0;, score=-3.909 total time=   0.4s\n",
      "[CV 1/5] END ..max_depth=2, min_samples_leaf=1;, score=-3.778 total time=   0.4s\n",
      "[CV 2/5] END ..max_depth=2, min_samples_leaf=1;, score=-3.561 total time=   0.8s\n",
      "[CV 3/5] END ..max_depth=2, min_samples_leaf=1;, score=-4.541 total time=   0.6s\n",
      "[CV 4/5] END ..max_depth=2, min_samples_leaf=1;, score=-3.376 total time=   0.7s\n",
      "[CV 5/5] END ..max_depth=2, min_samples_leaf=1;, score=-3.909 total time=   0.8s\n",
      "[CV 1/5] END ..max_depth=2, min_samples_leaf=2;, score=-3.778 total time=   0.7s\n",
      "[CV 2/5] END ..max_depth=2, min_samples_leaf=2;, score=-3.561 total time=   0.7s\n",
      "[CV 3/5] END ..max_depth=2, min_samples_leaf=2;, score=-4.541 total time=   0.7s\n",
      "[CV 4/5] END ..max_depth=2, min_samples_leaf=2;, score=-3.376 total time=   0.7s\n",
      "[CV 5/5] END ..max_depth=2, min_samples_leaf=2;, score=-3.909 total time=   0.7s\n",
      "[CV 1/5] END ..max_depth=2, min_samples_leaf=3;, score=-3.778 total time=   0.8s\n",
      "[CV 2/5] END ..max_depth=2, min_samples_leaf=3;, score=-3.561 total time=   0.7s\n",
      "[CV 3/5] END ..max_depth=2, min_samples_leaf=3;, score=-4.541 total time=   0.7s\n",
      "[CV 4/5] END ..max_depth=2, min_samples_leaf=3;, score=-3.376 total time=   0.5s\n",
      "[CV 5/5] END ..max_depth=2, min_samples_leaf=3;, score=-3.909 total time=   0.5s\n",
      "[CV 1/5] END ..max_depth=2, min_samples_leaf=4;, score=-3.778 total time=   0.5s\n",
      "[CV 2/5] END ..max_depth=2, min_samples_leaf=4;, score=-3.561 total time=   0.5s\n",
      "[CV 3/5] END ..max_depth=2, min_samples_leaf=4;, score=-4.541 total time=   0.5s\n",
      "[CV 4/5] END ..max_depth=2, min_samples_leaf=4;, score=-3.376 total time=   0.5s\n",
      "[CV 5/5] END ..max_depth=2, min_samples_leaf=4;, score=-3.909 total time=   0.5s\n",
      "[CV 1/5] END ..max_depth=2, min_samples_leaf=5;, score=-3.778 total time=   0.5s\n",
      "[CV 2/5] END ..max_depth=2, min_samples_leaf=5;, score=-3.561 total time=   0.5s\n",
      "[CV 3/5] END ..max_depth=2, min_samples_leaf=5;, score=-4.541 total time=   0.7s\n",
      "[CV 4/5] END ..max_depth=2, min_samples_leaf=5;, score=-3.376 total time=   0.7s\n",
      "[CV 5/5] END ..max_depth=2, min_samples_leaf=5;, score=-3.909 total time=   0.7s\n",
      "[CV 1/5] END ..max_depth=2, min_samples_leaf=6;, score=-3.778 total time=   0.8s\n",
      "[CV 2/5] END ..max_depth=2, min_samples_leaf=6;, score=-3.561 total time=   0.7s\n",
      "[CV 3/5] END ..max_depth=2, min_samples_leaf=6;, score=-4.541 total time=   0.7s\n",
      "[CV 4/5] END ..max_depth=2, min_samples_leaf=6;, score=-3.376 total time=   0.6s\n",
      "[CV 5/5] END ..max_depth=2, min_samples_leaf=6;, score=-3.909 total time=   0.6s\n",
      "[CV 1/5] END ..max_depth=2, min_samples_leaf=7;, score=-3.778 total time=   0.8s\n",
      "[CV 2/5] END ..max_depth=2, min_samples_leaf=7;, score=-3.561 total time=   0.8s\n",
      "[CV 3/5] END ..max_depth=2, min_samples_leaf=7;, score=-4.541 total time=   0.7s\n",
      "[CV 4/5] END ..max_depth=2, min_samples_leaf=7;, score=-3.376 total time=   0.7s\n",
      "[CV 5/5] END ..max_depth=2, min_samples_leaf=7;, score=-3.909 total time=   0.5s\n",
      "[CV 1/5] END ..max_depth=2, min_samples_leaf=8;, score=-3.778 total time=   0.5s\n",
      "[CV 2/5] END ..max_depth=2, min_samples_leaf=8;, score=-3.561 total time=   0.6s\n",
      "[CV 3/5] END ..max_depth=2, min_samples_leaf=8;, score=-4.541 total time=   0.5s\n",
      "[CV 4/5] END ..max_depth=2, min_samples_leaf=8;, score=-3.376 total time=   0.5s\n",
      "[CV 5/5] END ..max_depth=2, min_samples_leaf=8;, score=-3.909 total time=   0.5s\n",
      "[CV 1/5] END ..max_depth=2, min_samples_leaf=9;, score=-3.778 total time=   0.5s\n",
      "[CV 2/5] END ..max_depth=2, min_samples_leaf=9;, score=-3.561 total time=   0.5s\n",
      "[CV 3/5] END ..max_depth=2, min_samples_leaf=9;, score=-4.541 total time=   0.6s\n",
      "[CV 4/5] END ..max_depth=2, min_samples_leaf=9;, score=-3.376 total time=   0.7s\n",
      "[CV 5/5] END ..max_depth=2, min_samples_leaf=9;, score=-3.909 total time=   0.7s\n",
      "[CV 1/5] END ..max_depth=3, min_samples_leaf=0;, score=-3.670 total time=   1.1s\n",
      "[CV 2/5] END ..max_depth=3, min_samples_leaf=0;, score=-3.125 total time=   1.0s\n",
      "[CV 3/5] END ..max_depth=3, min_samples_leaf=0;, score=-4.179 total time=   1.1s\n",
      "[CV 4/5] END ..max_depth=3, min_samples_leaf=0;, score=-2.860 total time=   1.0s\n",
      "[CV 5/5] END ..max_depth=3, min_samples_leaf=0;, score=-3.991 total time=   1.1s\n",
      "[CV 1/5] END ..max_depth=3, min_samples_leaf=1;, score=-3.670 total time=   1.0s\n",
      "[CV 2/5] END ..max_depth=3, min_samples_leaf=1;, score=-3.125 total time=   0.9s\n",
      "[CV 3/5] END ..max_depth=3, min_samples_leaf=1;, score=-4.179 total time=   0.7s\n",
      "[CV 4/5] END ..max_depth=3, min_samples_leaf=1;, score=-2.860 total time=   0.7s\n",
      "[CV 5/5] END ..max_depth=3, min_samples_leaf=1;, score=-3.991 total time=   0.7s\n",
      "[CV 1/5] END ..max_depth=3, min_samples_leaf=2;, score=-3.670 total time=   0.7s\n",
      "[CV 2/5] END ..max_depth=3, min_samples_leaf=2;, score=-3.233 total time=   0.7s\n",
      "[CV 3/5] END ..max_depth=3, min_samples_leaf=2;, score=-4.179 total time=   0.7s\n",
      "[CV 4/5] END ..max_depth=3, min_samples_leaf=2;, score=-2.818 total time=   1.0s\n",
      "[CV 5/5] END ..max_depth=3, min_samples_leaf=2;, score=-3.706 total time=   1.0s\n",
      "[CV 1/5] END ..max_depth=3, min_samples_leaf=3;, score=-3.689 total time=   1.0s\n",
      "[CV 2/5] END ..max_depth=3, min_samples_leaf=3;, score=-3.233 total time=   1.1s\n",
      "[CV 3/5] END ..max_depth=3, min_samples_leaf=3;, score=-4.384 total time=   1.0s\n",
      "[CV 4/5] END ..max_depth=3, min_samples_leaf=3;, score=-3.049 total time=   1.0s\n",
      "[CV 5/5] END ..max_depth=3, min_samples_leaf=3;, score=-3.706 total time=   1.1s\n",
      "[CV 1/5] END ..max_depth=3, min_samples_leaf=4;, score=-3.689 total time=   1.0s\n",
      "[CV 2/5] END ..max_depth=3, min_samples_leaf=4;, score=-3.233 total time=   1.1s\n",
      "[CV 3/5] END ..max_depth=3, min_samples_leaf=4;, score=-4.627 total time=   0.8s\n",
      "[CV 4/5] END ..max_depth=3, min_samples_leaf=4;, score=-3.049 total time=   0.9s\n",
      "[CV 5/5] END ..max_depth=3, min_samples_leaf=4;, score=-3.677 total time=   0.7s\n",
      "[CV 1/5] END ..max_depth=3, min_samples_leaf=5;, score=-3.698 total time=   0.8s\n",
      "[CV 2/5] END ..max_depth=3, min_samples_leaf=5;, score=-3.328 total time=   1.0s\n",
      "[CV 3/5] END ..max_depth=3, min_samples_leaf=5;, score=-4.627 total time=   1.2s\n",
      "[CV 4/5] END ..max_depth=3, min_samples_leaf=5;, score=-3.020 total time=   1.2s\n",
      "[CV 5/5] END ..max_depth=3, min_samples_leaf=5;, score=-3.677 total time=   1.1s\n",
      "[CV 1/5] END ..max_depth=3, min_samples_leaf=6;, score=-3.698 total time=   1.1s\n",
      "[CV 2/5] END ..max_depth=3, min_samples_leaf=6;, score=-3.328 total time=   1.0s\n",
      "[CV 3/5] END ..max_depth=3, min_samples_leaf=6;, score=-4.627 total time=   1.1s\n",
      "[CV 4/5] END ..max_depth=3, min_samples_leaf=6;, score=-3.020 total time=   1.1s\n",
      "[CV 5/5] END ..max_depth=3, min_samples_leaf=6;, score=-3.677 total time=   1.0s\n",
      "[CV 1/5] END ..max_depth=3, min_samples_leaf=7;, score=-3.698 total time=   0.7s\n",
      "[CV 2/5] END ..max_depth=3, min_samples_leaf=7;, score=-3.328 total time=   0.7s\n",
      "[CV 3/5] END ..max_depth=3, min_samples_leaf=7;, score=-4.470 total time=   0.7s\n",
      "[CV 4/5] END ..max_depth=3, min_samples_leaf=7;, score=-3.020 total time=   0.7s\n",
      "[CV 5/5] END ..max_depth=3, min_samples_leaf=7;, score=-3.677 total time=   0.7s\n",
      "[CV 1/5] END ..max_depth=3, min_samples_leaf=8;, score=-3.698 total time=   0.7s\n",
      "[CV 2/5] END ..max_depth=3, min_samples_leaf=8;, score=-3.328 total time=   0.9s\n",
      "[CV 3/5] END ..max_depth=3, min_samples_leaf=8;, score=-4.470 total time=   1.0s\n",
      "[CV 4/5] END ..max_depth=3, min_samples_leaf=8;, score=-3.020 total time=   1.1s\n",
      "[CV 5/5] END ..max_depth=3, min_samples_leaf=8;, score=-3.677 total time=   1.0s\n",
      "[CV 1/5] END ..max_depth=3, min_samples_leaf=9;, score=-3.698 total time=   1.0s\n",
      "[CV 2/5] END ..max_depth=3, min_samples_leaf=9;, score=-3.328 total time=   0.9s\n",
      "[CV 3/5] END ..max_depth=3, min_samples_leaf=9;, score=-4.470 total time=   1.0s\n",
      "[CV 4/5] END ..max_depth=3, min_samples_leaf=9;, score=-3.020 total time=   1.1s\n",
      "[CV 5/5] END ..max_depth=3, min_samples_leaf=9;, score=-3.677 total time=   1.0s\n",
      "[CV 1/5] END ..max_depth=4, min_samples_leaf=0;, score=-3.103 total time=   0.9s\n",
      "[CV 2/5] END ..max_depth=4, min_samples_leaf=0;, score=-2.844 total time=   1.0s\n",
      "[CV 3/5] END ..max_depth=4, min_samples_leaf=0;, score=-3.787 total time=   1.2s\n",
      "[CV 4/5] END ..max_depth=4, min_samples_leaf=0;, score=-2.604 total time=   1.0s\n",
      "[CV 5/5] END ..max_depth=4, min_samples_leaf=0;, score=-3.877 total time=   1.6s\n",
      "[CV 1/5] END ..max_depth=4, min_samples_leaf=1;, score=-3.103 total time=   1.7s\n",
      "[CV 2/5] END ..max_depth=4, min_samples_leaf=1;, score=-2.844 total time=   1.8s\n",
      "[CV 3/5] END ..max_depth=4, min_samples_leaf=1;, score=-3.787 total time=   1.3s\n",
      "[CV 4/5] END ..max_depth=4, min_samples_leaf=1;, score=-2.604 total time=   1.4s\n",
      "[CV 5/5] END ..max_depth=4, min_samples_leaf=1;, score=-3.877 total time=   1.5s\n",
      "[CV 1/5] END ..max_depth=4, min_samples_leaf=2;, score=-3.058 total time=   1.3s\n",
      "[CV 2/5] END ..max_depth=4, min_samples_leaf=2;, score=-2.950 total time=   0.9s\n",
      "[CV 3/5] END ..max_depth=4, min_samples_leaf=2;, score=-3.755 total time=   0.9s\n",
      "[CV 4/5] END ..max_depth=4, min_samples_leaf=2;, score=-2.522 total time=   0.9s\n",
      "[CV 5/5] END ..max_depth=4, min_samples_leaf=2;, score=-3.584 total time=   0.8s\n",
      "[CV 1/5] END ..max_depth=4, min_samples_leaf=3;, score=-3.055 total time=   0.9s\n",
      "[CV 2/5] END ..max_depth=4, min_samples_leaf=3;, score=-2.950 total time=   1.3s\n",
      "[CV 3/5] END ..max_depth=4, min_samples_leaf=3;, score=-4.328 total time=   1.8s\n",
      "[CV 4/5] END ..max_depth=4, min_samples_leaf=3;, score=-2.736 total time=   1.8s\n",
      "[CV 5/5] END ..max_depth=4, min_samples_leaf=3;, score=-3.584 total time=   1.5s\n",
      "[CV 1/5] END ..max_depth=4, min_samples_leaf=4;, score=-3.055 total time=   1.7s\n",
      "[CV 2/5] END ..max_depth=4, min_samples_leaf=4;, score=-2.950 total time=   1.6s\n",
      "[CV 3/5] END ..max_depth=4, min_samples_leaf=4;, score=-4.621 total time=   1.2s\n",
      "[CV 4/5] END ..max_depth=4, min_samples_leaf=4;, score=-2.736 total time=   1.0s\n",
      "[CV 5/5] END ..max_depth=4, min_samples_leaf=4;, score=-3.481 total time=   0.8s\n",
      "[CV 1/5] END ..max_depth=4, min_samples_leaf=5;, score=-3.392 total time=   0.9s\n",
      "[CV 2/5] END ..max_depth=4, min_samples_leaf=5;, score=-3.188 total time=   1.0s\n",
      "[CV 3/5] END ..max_depth=4, min_samples_leaf=5;, score=-4.621 total time=   0.8s\n",
      "[CV 4/5] END ..max_depth=4, min_samples_leaf=5;, score=-2.652 total time=   2.9s\n",
      "[CV 5/5] END ..max_depth=4, min_samples_leaf=5;, score=-3.481 total time=   1.6s\n",
      "[CV 1/5] END ..max_depth=4, min_samples_leaf=6;, score=-3.392 total time=   1.2s\n",
      "[CV 2/5] END ..max_depth=4, min_samples_leaf=6;, score=-3.188 total time=   1.3s\n",
      "[CV 3/5] END ..max_depth=4, min_samples_leaf=6;, score=-4.621 total time=   1.2s\n",
      "[CV 4/5] END ..max_depth=4, min_samples_leaf=6;, score=-2.652 total time=   2.4s\n",
      "[CV 5/5] END ..max_depth=4, min_samples_leaf=6;, score=-3.483 total time=   2.0s\n",
      "[CV 1/5] END ..max_depth=4, min_samples_leaf=7;, score=-3.459 total time=   1.1s\n",
      "[CV 2/5] END ..max_depth=4, min_samples_leaf=7;, score=-3.188 total time=   0.7s\n",
      "[CV 3/5] END ..max_depth=4, min_samples_leaf=7;, score=-4.464 total time=   0.8s\n",
      "[CV 4/5] END ..max_depth=4, min_samples_leaf=7;, score=-2.652 total time=   0.8s\n",
      "[CV 5/5] END ..max_depth=4, min_samples_leaf=7;, score=-3.483 total time=   0.8s\n",
      "[CV 1/5] END ..max_depth=4, min_samples_leaf=8;, score=-3.459 total time=   0.8s\n",
      "[CV 2/5] END ..max_depth=4, min_samples_leaf=8;, score=-3.188 total time=   1.2s\n",
      "[CV 3/5] END ..max_depth=4, min_samples_leaf=8;, score=-4.464 total time=   1.4s\n",
      "[CV 4/5] END ..max_depth=4, min_samples_leaf=8;, score=-2.769 total time=   1.4s\n",
      "[CV 5/5] END ..max_depth=4, min_samples_leaf=8;, score=-3.483 total time=   1.9s\n",
      "[CV 1/5] END ..max_depth=4, min_samples_leaf=9;, score=-3.459 total time=   2.5s\n",
      "[CV 2/5] END ..max_depth=4, min_samples_leaf=9;, score=-3.188 total time=   1.9s\n",
      "[CV 3/5] END ..max_depth=4, min_samples_leaf=9;, score=-4.464 total time=   1.8s\n",
      "[CV 4/5] END ..max_depth=4, min_samples_leaf=9;, score=-2.769 total time=   2.1s\n",
      "[CV 5/5] END ..max_depth=4, min_samples_leaf=9;, score=-3.483 total time=   1.4s\n",
      "[CV 1/5] END ..max_depth=5, min_samples_leaf=0;, score=-2.969 total time=   1.3s\n",
      "[CV 2/5] END ..max_depth=5, min_samples_leaf=0;, score=-2.869 total time=   1.1s\n",
      "[CV 3/5] END ..max_depth=5, min_samples_leaf=0;, score=-3.709 total time=   1.1s\n",
      "[CV 4/5] END ..max_depth=5, min_samples_leaf=0;, score=-2.553 total time=   1.1s\n",
      "[CV 5/5] END ..max_depth=5, min_samples_leaf=0;, score=-3.803 total time=   1.5s\n",
      "[CV 1/5] END ..max_depth=5, min_samples_leaf=1;, score=-2.969 total time=   1.7s\n",
      "[CV 2/5] END ..max_depth=5, min_samples_leaf=1;, score=-2.869 total time=   1.7s\n",
      "[CV 3/5] END ..max_depth=5, min_samples_leaf=1;, score=-3.709 total time=   1.6s\n",
      "[CV 4/5] END ..max_depth=5, min_samples_leaf=1;, score=-2.553 total time=   1.8s\n",
      "[CV 5/5] END ..max_depth=5, min_samples_leaf=1;, score=-3.803 total time=   1.4s\n",
      "[CV 1/5] END ..max_depth=5, min_samples_leaf=2;, score=-2.933 total time=   1.1s\n",
      "[CV 2/5] END ..max_depth=5, min_samples_leaf=2;, score=-2.898 total time=   1.0s\n",
      "[CV 3/5] END ..max_depth=5, min_samples_leaf=2;, score=-3.703 total time=   1.1s\n",
      "[CV 4/5] END ..max_depth=5, min_samples_leaf=2;, score=-2.452 total time=   1.2s\n",
      "[CV 5/5] END ..max_depth=5, min_samples_leaf=2;, score=-3.569 total time=   1.3s\n",
      "[CV 1/5] END ..max_depth=5, min_samples_leaf=3;, score=-2.962 total time=   1.6s\n",
      "[CV 2/5] END ..max_depth=5, min_samples_leaf=3;, score=-2.898 total time=   1.6s\n",
      "[CV 3/5] END ..max_depth=5, min_samples_leaf=3;, score=-4.365 total time=   1.2s\n",
      "[CV 4/5] END ..max_depth=5, min_samples_leaf=3;, score=-2.603 total time=   1.6s\n",
      "[CV 5/5] END ..max_depth=5, min_samples_leaf=3;, score=-3.569 total time=   1.3s\n",
      "[CV 1/5] END ..max_depth=5, min_samples_leaf=4;, score=-2.962 total time=   1.1s\n",
      "[CV 2/5] END ..max_depth=5, min_samples_leaf=4;, score=-2.898 total time=   1.1s\n",
      "[CV 3/5] END ..max_depth=5, min_samples_leaf=4;, score=-4.659 total time=   0.8s\n",
      "[CV 4/5] END ..max_depth=5, min_samples_leaf=4;, score=-2.590 total time=   1.1s\n",
      "[CV 5/5] END ..max_depth=5, min_samples_leaf=4;, score=-3.474 total time=   1.0s\n",
      "[CV 1/5] END ..max_depth=5, min_samples_leaf=5;, score=-3.291 total time=   1.3s\n",
      "[CV 2/5] END ..max_depth=5, min_samples_leaf=5;, score=-3.188 total time=   1.4s\n",
      "[CV 3/5] END ..max_depth=5, min_samples_leaf=5;, score=-4.659 total time=   1.2s\n",
      "[CV 4/5] END ..max_depth=5, min_samples_leaf=5;, score=-2.590 total time=   1.2s\n",
      "[CV 5/5] END ..max_depth=5, min_samples_leaf=5;, score=-3.474 total time=   1.3s\n",
      "[CV 1/5] END ..max_depth=5, min_samples_leaf=6;, score=-3.291 total time=   1.4s\n",
      "[CV 2/5] END ..max_depth=5, min_samples_leaf=6;, score=-3.148 total time=   1.1s\n",
      "[CV 3/5] END ..max_depth=5, min_samples_leaf=6;, score=-4.659 total time=   0.8s\n",
      "[CV 4/5] END ..max_depth=5, min_samples_leaf=6;, score=-2.590 total time=   0.9s\n",
      "[CV 5/5] END ..max_depth=5, min_samples_leaf=6;, score=-3.499 total time=   0.9s\n",
      "[CV 1/5] END ..max_depth=5, min_samples_leaf=7;, score=-3.358 total time=   0.8s\n",
      "[CV 2/5] END ..max_depth=5, min_samples_leaf=7;, score=-3.148 total time=   0.8s\n",
      "[CV 3/5] END ..max_depth=5, min_samples_leaf=7;, score=-4.502 total time=   1.4s\n",
      "[CV 4/5] END ..max_depth=5, min_samples_leaf=7;, score=-2.590 total time=   1.5s\n",
      "[CV 5/5] END ..max_depth=5, min_samples_leaf=7;, score=-3.499 total time=   1.2s\n",
      "[CV 1/5] END ..max_depth=5, min_samples_leaf=8;, score=-3.376 total time=   1.3s\n",
      "[CV 2/5] END ..max_depth=5, min_samples_leaf=8;, score=-3.148 total time=   1.2s\n",
      "[CV 3/5] END ..max_depth=5, min_samples_leaf=8;, score=-4.520 total time=   1.2s\n",
      "[CV 4/5] END ..max_depth=5, min_samples_leaf=8;, score=-2.707 total time=   1.3s\n",
      "[CV 5/5] END ..max_depth=5, min_samples_leaf=8;, score=-3.499 total time=   1.0s\n",
      "[CV 1/5] END ..max_depth=5, min_samples_leaf=9;, score=-3.376 total time=   0.8s\n",
      "[CV 2/5] END ..max_depth=5, min_samples_leaf=9;, score=-3.148 total time=   0.9s\n",
      "[CV 3/5] END ..max_depth=5, min_samples_leaf=9;, score=-4.520 total time=   1.1s\n",
      "[CV 4/5] END ..max_depth=5, min_samples_leaf=9;, score=-2.707 total time=   1.0s\n",
      "[CV 5/5] END ..max_depth=5, min_samples_leaf=9;, score=-3.499 total time=   1.3s\n",
      "[CV 1/5] END ..max_depth=6, min_samples_leaf=0;, score=-3.035 total time=   2.3s\n",
      "[CV 2/5] END ..max_depth=6, min_samples_leaf=0;, score=-2.938 total time=   2.1s\n",
      "[CV 3/5] END ..max_depth=6, min_samples_leaf=0;, score=-3.624 total time=   2.1s\n",
      "[CV 4/5] END ..max_depth=6, min_samples_leaf=0;, score=-2.622 total time=   2.2s\n",
      "[CV 5/5] END ..max_depth=6, min_samples_leaf=0;, score=-3.414 total time=   1.6s\n",
      "[CV 1/5] END ..max_depth=6, min_samples_leaf=1;, score=-3.035 total time=   1.4s\n",
      "[CV 2/5] END ..max_depth=6, min_samples_leaf=1;, score=-2.938 total time=   1.4s\n",
      "[CV 3/5] END ..max_depth=6, min_samples_leaf=1;, score=-3.624 total time=   1.6s\n",
      "[CV 4/5] END ..max_depth=6, min_samples_leaf=1;, score=-2.622 total time=   2.2s\n",
      "[CV 5/5] END ..max_depth=6, min_samples_leaf=1;, score=-3.414 total time=   2.1s\n",
      "[CV 1/5] END ..max_depth=6, min_samples_leaf=2;, score=-2.955 total time=   1.8s\n",
      "[CV 2/5] END ..max_depth=6, min_samples_leaf=2;, score=-2.791 total time=   2.1s\n",
      "[CV 3/5] END ..max_depth=6, min_samples_leaf=2;, score=-3.655 total time=   1.7s\n",
      "[CV 4/5] END ..max_depth=6, min_samples_leaf=2;, score=-2.533 total time=   1.3s\n",
      "[CV 5/5] END ..max_depth=6, min_samples_leaf=2;, score=-3.568 total time=   1.0s\n",
      "[CV 1/5] END ..max_depth=6, min_samples_leaf=3;, score=-2.978 total time=   1.3s\n",
      "[CV 2/5] END ..max_depth=6, min_samples_leaf=3;, score=-2.749 total time=   1.7s\n",
      "[CV 3/5] END ..max_depth=6, min_samples_leaf=3;, score=-4.338 total time=   1.6s\n",
      "[CV 4/5] END ..max_depth=6, min_samples_leaf=3;, score=-2.595 total time=   1.9s\n",
      "[CV 5/5] END ..max_depth=6, min_samples_leaf=3;, score=-3.525 total time=   1.5s\n",
      "[CV 1/5] END ..max_depth=6, min_samples_leaf=4;, score=-3.001 total time=   2.1s\n",
      "[CV 2/5] END ..max_depth=6, min_samples_leaf=4;, score=-2.749 total time=   1.7s\n",
      "[CV 3/5] END ..max_depth=6, min_samples_leaf=4;, score=-4.582 total time=   0.9s\n",
      "[CV 4/5] END ..max_depth=6, min_samples_leaf=4;, score=-2.516 total time=   1.3s\n",
      "[CV 5/5] END ..max_depth=6, min_samples_leaf=4;, score=-3.425 total time=   1.0s\n",
      "[CV 1/5] END ..max_depth=6, min_samples_leaf=5;, score=-3.352 total time=   1.0s\n",
      "[CV 2/5] END ..max_depth=6, min_samples_leaf=5;, score=-3.188 total time=   1.3s\n",
      "[CV 3/5] END ..max_depth=6, min_samples_leaf=5;, score=-4.683 total time=   1.4s\n",
      "[CV 4/5] END ..max_depth=6, min_samples_leaf=5;, score=-2.605 total time=   1.4s\n",
      "[CV 5/5] END ..max_depth=6, min_samples_leaf=5;, score=-3.425 total time=   1.5s\n",
      "[CV 1/5] END ..max_depth=6, min_samples_leaf=6;, score=-3.352 total time=   1.3s\n",
      "[CV 2/5] END ..max_depth=6, min_samples_leaf=6;, score=-3.148 total time=   1.6s\n",
      "[CV 3/5] END ..max_depth=6, min_samples_leaf=6;, score=-4.668 total time=   1.5s\n",
      "[CV 4/5] END ..max_depth=6, min_samples_leaf=6;, score=-2.605 total time=   1.3s\n",
      "[CV 5/5] END ..max_depth=6, min_samples_leaf=6;, score=-3.499 total time=   1.0s\n",
      "[CV 1/5] END ..max_depth=6, min_samples_leaf=7;, score=-3.419 total time=   1.0s\n",
      "[CV 2/5] END ..max_depth=6, min_samples_leaf=7;, score=-3.148 total time=   0.9s\n",
      "[CV 3/5] END ..max_depth=6, min_samples_leaf=7;, score=-4.511 total time=   1.1s\n",
      "[CV 4/5] END ..max_depth=6, min_samples_leaf=7;, score=-2.605 total time=   1.4s\n",
      "[CV 5/5] END ..max_depth=6, min_samples_leaf=7;, score=-3.499 total time=   1.3s\n",
      "[CV 1/5] END ..max_depth=6, min_samples_leaf=8;, score=-3.360 total time=   1.5s\n",
      "[CV 2/5] END ..max_depth=6, min_samples_leaf=8;, score=-3.148 total time=   1.3s\n",
      "[CV 3/5] END ..max_depth=6, min_samples_leaf=8;, score=-4.529 total time=   1.4s\n",
      "[CV 4/5] END ..max_depth=6, min_samples_leaf=8;, score=-2.722 total time=   1.4s\n",
      "[CV 5/5] END ..max_depth=6, min_samples_leaf=8;, score=-3.499 total time=   1.1s\n",
      "[CV 1/5] END ..max_depth=6, min_samples_leaf=9;, score=-3.376 total time=   0.9s\n",
      "[CV 2/5] END ..max_depth=6, min_samples_leaf=9;, score=-3.148 total time=   0.9s\n",
      "[CV 3/5] END ..max_depth=6, min_samples_leaf=9;, score=-4.529 total time=   0.9s\n",
      "[CV 4/5] END ..max_depth=6, min_samples_leaf=9;, score=-2.707 total time=   0.9s\n",
      "[CV 5/5] END ..max_depth=6, min_samples_leaf=9;, score=-3.499 total time=   1.1s\n",
      "[CV 1/5] END ..max_depth=7, min_samples_leaf=0;, score=-3.159 total time=   2.4s\n",
      "[CV 2/5] END ..max_depth=7, min_samples_leaf=0;, score=-3.006 total time=   2.4s\n",
      "[CV 3/5] END ..max_depth=7, min_samples_leaf=0;, score=-3.682 total time=   2.3s\n",
      "[CV 4/5] END ..max_depth=7, min_samples_leaf=0;, score=-2.445 total time=   2.3s\n",
      "[CV 5/5] END ..max_depth=7, min_samples_leaf=0;, score=-3.315 total time=   1.6s\n",
      "[CV 1/5] END ..max_depth=7, min_samples_leaf=1;, score=-3.159 total time=   1.6s\n",
      "[CV 2/5] END ..max_depth=7, min_samples_leaf=1;, score=-3.006 total time=   1.7s\n",
      "[CV 3/5] END ..max_depth=7, min_samples_leaf=1;, score=-3.682 total time=   2.4s\n",
      "[CV 4/5] END ..max_depth=7, min_samples_leaf=1;, score=-2.445 total time=   2.5s\n",
      "[CV 5/5] END ..max_depth=7, min_samples_leaf=1;, score=-3.315 total time=   2.4s\n",
      "[CV 1/5] END ..max_depth=7, min_samples_leaf=2;, score=-2.941 total time=   2.3s\n",
      "[CV 2/5] END ..max_depth=7, min_samples_leaf=2;, score=-2.900 total time=   1.6s\n",
      "[CV 3/5] END ..max_depth=7, min_samples_leaf=2;, score=-3.686 total time=   1.5s\n",
      "[CV 4/5] END ..max_depth=7, min_samples_leaf=2;, score=-2.509 total time=   1.5s\n",
      "[CV 5/5] END ..max_depth=7, min_samples_leaf=2;, score=-3.464 total time=   1.6s\n",
      "[CV 1/5] END ..max_depth=7, min_samples_leaf=3;, score=-2.978 total time=   2.3s\n",
      "[CV 2/5] END ..max_depth=7, min_samples_leaf=3;, score=-2.701 total time=   2.1s\n",
      "[CV 3/5] END ..max_depth=7, min_samples_leaf=3;, score=-4.349 total time=   1.4s\n",
      "[CV 4/5] END ..max_depth=7, min_samples_leaf=3;, score=-2.516 total time=   2.2s\n",
      "[CV 5/5] END ..max_depth=7, min_samples_leaf=3;, score=-3.384 total time=   1.3s\n",
      "[CV 1/5] END ..max_depth=7, min_samples_leaf=4;, score=-3.004 total time=   1.5s\n",
      "[CV 2/5] END ..max_depth=7, min_samples_leaf=4;, score=-2.701 total time=   1.4s\n",
      "[CV 3/5] END ..max_depth=7, min_samples_leaf=4;, score=-4.593 total time=   0.9s\n",
      "[CV 4/5] END ..max_depth=7, min_samples_leaf=4;, score=-2.424 total time=   2.0s\n",
      "[CV 5/5] END ..max_depth=7, min_samples_leaf=4;, score=-3.272 total time=   1.6s\n",
      "[CV 1/5] END ..max_depth=7, min_samples_leaf=5;, score=-3.333 total time=   1.6s\n",
      "[CV 2/5] END ..max_depth=7, min_samples_leaf=5;, score=-3.162 total time=   1.4s\n",
      "[CV 3/5] END ..max_depth=7, min_samples_leaf=5;, score=-4.694 total time=   1.5s\n",
      "[CV 4/5] END ..max_depth=7, min_samples_leaf=5;, score=-2.605 total time=   1.4s\n",
      "[CV 5/5] END ..max_depth=7, min_samples_leaf=5;, score=-3.338 total time=   1.1s\n",
      "[CV 1/5] END ..max_depth=7, min_samples_leaf=6;, score=-3.352 total time=   1.0s\n",
      "[CV 2/5] END ..max_depth=7, min_samples_leaf=6;, score=-3.148 total time=   1.0s\n",
      "[CV 3/5] END ..max_depth=7, min_samples_leaf=6;, score=-4.668 total time=   1.0s\n",
      "[CV 4/5] END ..max_depth=7, min_samples_leaf=6;, score=-2.605 total time=   1.0s\n",
      "[CV 5/5] END ..max_depth=7, min_samples_leaf=6;, score=-3.499 total time=   1.3s\n",
      "[CV 1/5] END ..max_depth=7, min_samples_leaf=7;, score=-3.419 total time=   1.7s\n",
      "[CV 2/5] END ..max_depth=7, min_samples_leaf=7;, score=-3.148 total time=   1.6s\n",
      "[CV 3/5] END ..max_depth=7, min_samples_leaf=7;, score=-4.511 total time=   1.3s\n",
      "[CV 4/5] END ..max_depth=7, min_samples_leaf=7;, score=-2.605 total time=   1.5s\n",
      "[CV 5/5] END ..max_depth=7, min_samples_leaf=7;, score=-3.499 total time=   1.4s\n",
      "[CV 1/5] END ..max_depth=7, min_samples_leaf=8;, score=-3.360 total time=   1.3s\n",
      "[CV 2/5] END ..max_depth=7, min_samples_leaf=8;, score=-3.148 total time=   0.9s\n",
      "[CV 3/5] END ..max_depth=7, min_samples_leaf=8;, score=-4.529 total time=   0.9s\n",
      "[CV 4/5] END ..max_depth=7, min_samples_leaf=8;, score=-2.722 total time=   1.0s\n",
      "[CV 5/5] END ..max_depth=7, min_samples_leaf=8;, score=-3.499 total time=   0.9s\n",
      "[CV 1/5] END ..max_depth=7, min_samples_leaf=9;, score=-3.376 total time=   1.1s\n",
      "[CV 2/5] END ..max_depth=7, min_samples_leaf=9;, score=-3.148 total time=   1.3s\n",
      "[CV 3/5] END ..max_depth=7, min_samples_leaf=9;, score=-4.529 total time=   1.5s\n",
      "[CV 4/5] END ..max_depth=7, min_samples_leaf=9;, score=-2.707 total time=   1.5s\n",
      "[CV 5/5] END ..max_depth=7, min_samples_leaf=9;, score=-3.499 total time=   1.3s\n",
      "[CV 1/5] END ..max_depth=8, min_samples_leaf=0;, score=-3.249 total time=   2.7s\n",
      "[CV 2/5] END ..max_depth=8, min_samples_leaf=0;, score=-3.164 total time=   2.2s\n",
      "[CV 3/5] END ..max_depth=8, min_samples_leaf=0;, score=-3.639 total time=   1.8s\n",
      "[CV 4/5] END ..max_depth=8, min_samples_leaf=0;, score=-2.595 total time=   1.8s\n",
      "[CV 5/5] END ..max_depth=8, min_samples_leaf=0;, score=-3.418 total time=   2.5s\n",
      "[CV 1/5] END ..max_depth=8, min_samples_leaf=1;, score=-3.249 total time=   2.7s\n",
      "[CV 2/5] END ..max_depth=8, min_samples_leaf=1;, score=-3.164 total time=   2.7s\n",
      "[CV 3/5] END ..max_depth=8, min_samples_leaf=1;, score=-3.639 total time=   2.3s\n",
      "[CV 4/5] END ..max_depth=8, min_samples_leaf=1;, score=-2.595 total time=   1.8s\n",
      "[CV 5/5] END ..max_depth=8, min_samples_leaf=1;, score=-3.418 total time=   1.8s\n",
      "[CV 1/5] END ..max_depth=8, min_samples_leaf=2;, score=-2.912 total time=   2.0s\n",
      "[CV 2/5] END ..max_depth=8, min_samples_leaf=2;, score=-2.926 total time=   2.5s\n",
      "[CV 3/5] END ..max_depth=8, min_samples_leaf=2;, score=-3.729 total time=   2.3s\n",
      "[CV 4/5] END ..max_depth=8, min_samples_leaf=2;, score=-2.528 total time=   2.6s\n",
      "[CV 5/5] END ..max_depth=8, min_samples_leaf=2;, score=-3.443 total time=   1.5s\n",
      "[CV 1/5] END ..max_depth=8, min_samples_leaf=3;, score=-2.957 total time=   1.5s\n",
      "[CV 2/5] END ..max_depth=8, min_samples_leaf=3;, score=-2.750 total time=   1.5s\n",
      "[CV 3/5] END ..max_depth=8, min_samples_leaf=3;, score=-4.349 total time=   1.0s\n",
      "[CV 4/5] END ..max_depth=8, min_samples_leaf=3;, score=-2.574 total time=   2.0s\n",
      "[CV 5/5] END ..max_depth=8, min_samples_leaf=3;, score=-3.326 total time=   1.8s\n",
      "[CV 1/5] END ..max_depth=8, min_samples_leaf=4;, score=-3.004 total time=   2.0s\n",
      "[CV 2/5] END ..max_depth=8, min_samples_leaf=4;, score=-2.748 total time=   2.2s\n",
      "[CV 3/5] END ..max_depth=8, min_samples_leaf=4;, score=-4.593 total time=   1.5s\n",
      "[CV 4/5] END ..max_depth=8, min_samples_leaf=4;, score=-2.424 total time=   1.6s\n",
      "[CV 5/5] END ..max_depth=8, min_samples_leaf=4;, score=-3.215 total time=   1.0s\n",
      "[CV 1/5] END ..max_depth=8, min_samples_leaf=5;, score=-3.333 total time=   1.0s\n",
      "[CV 2/5] END ..max_depth=8, min_samples_leaf=5;, score=-3.157 total time=   1.0s\n",
      "[CV 3/5] END ..max_depth=8, min_samples_leaf=5;, score=-4.694 total time=   1.1s\n",
      "[CV 4/5] END ..max_depth=8, min_samples_leaf=5;, score=-2.605 total time=   1.5s\n",
      "[CV 5/5] END ..max_depth=8, min_samples_leaf=5;, score=-3.338 total time=   1.7s\n",
      "[CV 1/5] END ..max_depth=8, min_samples_leaf=6;, score=-3.352 total time=   1.7s\n",
      "[CV 2/5] END ..max_depth=8, min_samples_leaf=6;, score=-3.148 total time=   1.3s\n",
      "[CV 3/5] END ..max_depth=8, min_samples_leaf=6;, score=-4.668 total time=   1.5s\n",
      "[CV 4/5] END ..max_depth=8, min_samples_leaf=6;, score=-2.605 total time=   1.4s\n",
      "[CV 5/5] END ..max_depth=8, min_samples_leaf=6;, score=-3.499 total time=   1.0s\n",
      "[CV 1/5] END ..max_depth=8, min_samples_leaf=7;, score=-3.419 total time=   1.3s\n",
      "[CV 2/5] END ..max_depth=8, min_samples_leaf=7;, score=-3.148 total time=   1.5s\n",
      "[CV 3/5] END ..max_depth=8, min_samples_leaf=7;, score=-4.511 total time=   1.1s\n",
      "[CV 4/5] END ..max_depth=8, min_samples_leaf=7;, score=-2.605 total time=   1.5s\n",
      "[CV 5/5] END ..max_depth=8, min_samples_leaf=7;, score=-3.499 total time=   1.4s\n",
      "[CV 1/5] END ..max_depth=8, min_samples_leaf=8;, score=-3.360 total time=   1.4s\n",
      "[CV 2/5] END ..max_depth=8, min_samples_leaf=8;, score=-3.148 total time=   1.4s\n",
      "[CV 3/5] END ..max_depth=8, min_samples_leaf=8;, score=-4.529 total time=   1.5s\n",
      "[CV 4/5] END ..max_depth=8, min_samples_leaf=8;, score=-2.722 total time=   1.4s\n",
      "[CV 5/5] END ..max_depth=8, min_samples_leaf=8;, score=-3.499 total time=   1.3s\n",
      "[CV 1/5] END ..max_depth=8, min_samples_leaf=9;, score=-3.376 total time=   1.0s\n",
      "[CV 2/5] END ..max_depth=8, min_samples_leaf=9;, score=-3.148 total time=   0.9s\n",
      "[CV 3/5] END ..max_depth=8, min_samples_leaf=9;, score=-4.529 total time=   1.1s\n",
      "[CV 4/5] END ..max_depth=8, min_samples_leaf=9;, score=-2.707 total time=   1.1s\n",
      "[CV 5/5] END ..max_depth=8, min_samples_leaf=9;, score=-3.499 total time=   1.1s\n",
      "[CV 1/5] END ..max_depth=9, min_samples_leaf=0;, score=-3.264 total time=   2.9s\n",
      "[CV 2/5] END ..max_depth=9, min_samples_leaf=0;, score=-3.194 total time=   2.8s\n",
      "[CV 3/5] END ..max_depth=9, min_samples_leaf=0;, score=-3.723 total time=   2.9s\n",
      "[CV 4/5] END ..max_depth=9, min_samples_leaf=0;, score=-2.563 total time=   2.1s\n",
      "[CV 5/5] END ..max_depth=9, min_samples_leaf=0;, score=-3.473 total time=   1.9s\n",
      "[CV 1/5] END ..max_depth=9, min_samples_leaf=1;, score=-3.264 total time=   2.3s\n",
      "[CV 2/5] END ..max_depth=9, min_samples_leaf=1;, score=-3.194 total time=   2.9s\n",
      "[CV 3/5] END ..max_depth=9, min_samples_leaf=1;, score=-3.723 total time=   2.9s\n",
      "[CV 4/5] END ..max_depth=9, min_samples_leaf=1;, score=-2.563 total time=   3.0s\n",
      "[CV 5/5] END ..max_depth=9, min_samples_leaf=1;, score=-3.473 total time=   2.0s\n",
      "[CV 1/5] END ..max_depth=9, min_samples_leaf=2;, score=-2.860 total time=   1.6s\n",
      "[CV 2/5] END ..max_depth=9, min_samples_leaf=2;, score=-2.989 total time=   2.1s\n",
      "[CV 3/5] END ..max_depth=9, min_samples_leaf=2;, score=-3.821 total time=   2.5s\n",
      "[CV 4/5] END ..max_depth=9, min_samples_leaf=2;, score=-2.525 total time=   2.6s\n",
      "[CV 5/5] END ..max_depth=9, min_samples_leaf=2;, score=-3.438 total time=   1.9s\n",
      "[CV 1/5] END ..max_depth=9, min_samples_leaf=3;, score=-2.957 total time=   2.2s\n",
      "[CV 2/5] END ..max_depth=9, min_samples_leaf=3;, score=-2.789 total time=   1.6s\n",
      "[CV 3/5] END ..max_depth=9, min_samples_leaf=3;, score=-4.349 total time=   1.0s\n",
      "[CV 4/5] END ..max_depth=9, min_samples_leaf=3;, score=-2.574 total time=   1.6s\n",
      "[CV 5/5] END ..max_depth=9, min_samples_leaf=3;, score=-3.306 total time=   1.5s\n",
      "[CV 1/5] END ..max_depth=9, min_samples_leaf=4;, score=-3.004 total time=   2.1s\n",
      "[CV 2/5] END ..max_depth=9, min_samples_leaf=4;, score=-2.773 total time=   2.5s\n",
      "[CV 3/5] END ..max_depth=9, min_samples_leaf=4;, score=-4.593 total time=   1.4s\n",
      "[CV 4/5] END ..max_depth=9, min_samples_leaf=4;, score=-2.424 total time=   2.4s\n",
      "[CV 5/5] END ..max_depth=9, min_samples_leaf=4;, score=-3.199 total time=   1.2s\n",
      "[CV 1/5] END ..max_depth=9, min_samples_leaf=5;, score=-3.333 total time=   1.0s\n",
      "[CV 2/5] END ..max_depth=9, min_samples_leaf=5;, score=-3.157 total time=   1.0s\n",
      "[CV 3/5] END ..max_depth=9, min_samples_leaf=5;, score=-4.694 total time=   1.0s\n",
      "[CV 4/5] END ..max_depth=9, min_samples_leaf=5;, score=-2.605 total time=   1.1s\n",
      "[CV 5/5] END ..max_depth=9, min_samples_leaf=5;, score=-3.338 total time=   1.5s\n",
      "[CV 1/5] END ..max_depth=9, min_samples_leaf=6;, score=-3.352 total time=   1.5s\n",
      "[CV 2/5] END ..max_depth=9, min_samples_leaf=6;, score=-3.148 total time=   1.5s\n",
      "[CV 3/5] END ..max_depth=9, min_samples_leaf=6;, score=-4.668 total time=   1.3s\n",
      "[CV 4/5] END ..max_depth=9, min_samples_leaf=6;, score=-2.605 total time=   1.5s\n",
      "[CV 5/5] END ..max_depth=9, min_samples_leaf=6;, score=-3.499 total time=   1.4s\n",
      "[CV 1/5] END ..max_depth=9, min_samples_leaf=7;, score=-3.419 total time=   1.2s\n",
      "[CV 2/5] END ..max_depth=9, min_samples_leaf=7;, score=-3.148 total time=   0.9s\n",
      "[CV 3/5] END ..max_depth=9, min_samples_leaf=7;, score=-4.511 total time=   0.9s\n",
      "[CV 4/5] END ..max_depth=9, min_samples_leaf=7;, score=-2.605 total time=   1.0s\n",
      "[CV 5/5] END ..max_depth=9, min_samples_leaf=7;, score=-3.499 total time=   0.9s\n",
      "[CV 1/5] END ..max_depth=9, min_samples_leaf=8;, score=-3.360 total time=   1.3s\n",
      "[CV 2/5] END ..max_depth=9, min_samples_leaf=8;, score=-3.148 total time=   1.4s\n",
      "[CV 3/5] END ..max_depth=9, min_samples_leaf=8;, score=-4.529 total time=   1.4s\n",
      "[CV 4/5] END ..max_depth=9, min_samples_leaf=8;, score=-2.722 total time=   1.5s\n",
      "[CV 5/5] END ..max_depth=9, min_samples_leaf=8;, score=-3.499 total time=   1.3s\n",
      "[CV 1/5] END ..max_depth=9, min_samples_leaf=9;, score=-3.376 total time=   1.5s\n",
      "[CV 2/5] END ..max_depth=9, min_samples_leaf=9;, score=-3.148 total time=   1.4s\n",
      "[CV 3/5] END ..max_depth=9, min_samples_leaf=9;, score=-4.529 total time=   1.0s\n",
      "[CV 4/5] END ..max_depth=9, min_samples_leaf=9;, score=-2.707 total time=   1.0s\n",
      "[CV 5/5] END ..max_depth=9, min_samples_leaf=9;, score=-3.499 total time=   0.9s\n",
      "Лучшие параметры: {'max_depth': 7, 'min_samples_leaf': 2} \n",
      "\n",
      "Лучший счет: -3.099878874908554 \n",
      "\n"
     ]
    }
   ],
   "source": [
    "parameters = {\"max_depth\":range(0,10),'min_samples_leaf':range(0,10)}\n",
    "model = MyDecisionTreeRegressor()\n",
    "grid = GridSearchCV(model, parameters, scoring='neg_mean_absolute_error', verbose=4)\n",
    "grid.fit(features_train, target_train)\n",
    "print('Лучшие параметры:', grid.best_params_, '\\n')\n",
    "print('Лучший счет:', grid.best_score_, '\\n')"
   ],
   "metadata": {
    "collapsed": false,
    "pycharm": {
     "name": "#%%\n"
    }
   }
  },
  {
   "cell_type": "markdown",
   "source": [
    "### Task 6 <a id=\"task6\"></a>  (2 points)\n",
    "\n",
    "Recall definition of bias and variance:\n",
    "$$\n",
    "\\text{Bias}^2 = \\mathbb{E}_{p(x, y)} \\left[  (f(x) - \\mathbb{E}_{\\mathbb{X}}a_{\\mathbb{X}}(x))^2 \\right] \\\\\n",
    "\\text{Variance} = \\mathbb{E}_{p(x, y)} \\left[  \\mathbb{V}_{\\mathbb{X}}( a_{\\mathbb{X}}(x))  \\right]\n",
    "$$\n",
    "\n",
    "We wil now use use the following algorithm to estimate bias and variance:\n",
    "\n",
    "1. Use bootsrap to create `n_iter` samples from the original dataset: $X_1, \\dots, X_{n_iter}$\n",
    "2. For each bootstrapped sample define out-of-bag (OOB) sample $Z_1, \\dots, Z_{n_iter}$, which contain all the observations, which did not appear in the corresponding boostraped sample\n",
    "3. Fit the model on $X_i$s and compute predictions on $Z_i$s\n",
    "4. For a given *object* $n$:\n",
    "     - bias^2: squared difference between true value $y_n$ and average prediction (average over the algorithms, for which $n$ was in OOB)\n",
    "     - variance: variance of the prediction (predictions of the algorithms, for which $n$ was in OOB)\n",
    "5. Average bias^2 and variance over all the points\n",
    "\n",
    "**Implement `get_bias_variance` function, using the algorithm above**\n",
    "\n",
    "*Note:*  You can only use 1 loop (for bootsrap iterations). All other operations should be vectorized."
   ],
   "metadata": {
    "collapsed": false,
    "pycharm": {
     "name": "#%% md\n"
    }
   }
  },
  {
   "cell_type": "code",
   "execution_count": 107,
   "outputs": [],
   "source": [
    "def get_bias_variance(estimator, x, y, n_iter):\n",
    "    \"\"\"\n",
    "    Calculate bias and variance of the `estimator`.\n",
    "    Using a given dataset and bootstrap with `n_iter` samples.\n",
    "\n",
    "    Parameters\n",
    "    ----------\n",
    "    x : ndarray, shape (n_samples, n_features)\n",
    "        The input samples.\n",
    "    y : ndarray, shape (n_samples, n_features)\n",
    "        The input samples.\n",
    "    n_iter: int\n",
    "        Number of samples in\n",
    "    Returns\n",
    "    -------\n",
    "    bias2 : float,\n",
    "        Estiamted squared bias\n",
    "    variance : float,\n",
    "        Estiamted variance\n",
    "    \"\"\"\n",
    "    np.random.seed(12345)\n",
    "\n",
    "    # YOUR CODE HERE\n",
    "    #TypeError: only integer scalar arrays can be converted to a scalar index\n",
    "    data_tmp = pd.DataFrame([], index=range(len(y)))\n",
    "    # for i in range(n_iter):\n",
    "    #     data_tmp[i] = np.nan\n",
    "\n",
    "    for i in range(n_iter):\n",
    "        bootstrap = np.random.choice(len(y), len(y))\n",
    "\n",
    "        OOB_indexes = np.arange(len(y))[~np.isin(np.arange(len(y)),bootstrap)]\n",
    "        OOB = x[OOB_indexes, :]\n",
    "\n",
    "        estimator.fit(x[bootstrap, :], y[bootstrap])\n",
    "        predictions = estimator.predict(OOB)\n",
    "\n",
    "        columns = pd.Series([np.nan] * len(y))\n",
    "        columns = np.array(columns)\n",
    "\n",
    "        np.put(columns, OOB_indexes, predictions)\n",
    "\n",
    "        # display(pd.Series(columns))\n",
    "\n",
    "        # display(pd.Series(columns))\n",
    "        data_tmp[i] = pd.Series(columns)\n",
    "\n",
    "\n",
    "        #Note: You can only use 1 loop (for bootsrap iterations). All other operations should be vectorized.Note: You can only use 1 loop (for bootsrap iterations). All other operations should be vectorized.\n",
    "        # for index in data_tmp.index:\n",
    "        #     if index in OOB_indexes:\n",
    "        #         data_tmp.loc[index, i] = predictions[index]\n",
    "        # display(data_tmp)\n",
    "        # my_iter = iter(predictions)\n",
    "        # print(OOB_indexes)\n",
    "        # for j in range(len(y)):\n",
    "        #     if j in OOB_indexes:\n",
    "        #         print('J', j)\n",
    "        #         index = list(OOB_indexes).index(j)\n",
    "        #         print('INDEX', index)\n",
    "        #         data_tmp.at[i, index] = next(my_iter)\n",
    "        # display(data_tmp)\n",
    "\n",
    "\n",
    "    return np.nanmean(np.square(y - np.nanmean(data_tmp, axis = 1))), np.nanmean(np.nanvar(data_tmp, axis=1))"
   ],
   "metadata": {
    "collapsed": false,
    "pycharm": {
     "name": "#%%\n"
    }
   }
  },
  {
   "cell_type": "code",
   "execution_count": 108,
   "outputs": [
    {
     "name": "stderr",
     "output_type": "stream",
     "text": [
      "C:\\Users\\ASUS\\AppData\\Local\\Temp\\ipykernel_23820\\4179258945.py:65: RuntimeWarning: Mean of empty slice\n",
      "  return np.nanmean(np.square(y - np.nanmean(data_tmp, axis = 1))), np.nanmean(np.nanvar(data_tmp, axis=1))\n",
      "C:\\Users\\ASUS\\AppData\\Local\\Temp\\ipykernel_23820\\4179258945.py:65: RuntimeWarning: Degrees of freedom <= 0 for slice.\n",
      "  return np.nanmean(np.square(y - np.nanmean(data_tmp, axis = 1))), np.nanmean(np.nanvar(data_tmp, axis=1))\n"
     ]
    },
    {
     "data": {
      "text/plain": "(19.095601269187487, 8.24848465600325)"
     },
     "execution_count": 108,
     "metadata": {},
     "output_type": "execute_result"
    }
   ],
   "source": [
    "# Test\n",
    "estimator = MyDecisionTreeRegressor(max_depth=8, min_samples_split=15)\n",
    "\n",
    "get_bias_variance(estimator, features_train, target_train, 10)"
   ],
   "metadata": {
    "collapsed": false,
    "pycharm": {
     "name": "#%%\n"
    }
   }
  },
  {
   "cell_type": "markdown",
   "source": [
    "### Task 7 <a id=\"task7\"></a>  (0.5 points)\n",
    "\n",
    "Compute bias and variance for the trees with different min_samples_split. Plot how bias and variance change as min_samples_split increases.\n",
    "\n",
    "Comment on what you observe, how does your result correspond to theory?"
   ],
   "metadata": {
    "collapsed": false,
    "pycharm": {
     "name": "#%% md\n"
    }
   }
  },
  {
   "cell_type": "code",
   "execution_count": 109,
   "outputs": [
    {
     "name": "stderr",
     "output_type": "stream",
     "text": [
      "C:\\Users\\ASUS\\AppData\\Local\\Temp\\ipykernel_23820\\4179258945.py:65: RuntimeWarning: Mean of empty slice\n",
      "  return np.nanmean(np.square(y - np.nanmean(data_tmp, axis = 1))), np.nanmean(np.nanvar(data_tmp, axis=1))\n",
      "C:\\Users\\ASUS\\AppData\\Local\\Temp\\ipykernel_23820\\4179258945.py:65: RuntimeWarning: Degrees of freedom <= 0 for slice.\n",
      "  return np.nanmean(np.square(y - np.nanmean(data_tmp, axis = 1))), np.nanmean(np.nanvar(data_tmp, axis=1))\n",
      "C:\\Users\\ASUS\\AppData\\Local\\Temp\\ipykernel_23820\\4179258945.py:65: RuntimeWarning: Mean of empty slice\n",
      "  return np.nanmean(np.square(y - np.nanmean(data_tmp, axis = 1))), np.nanmean(np.nanvar(data_tmp, axis=1))\n",
      "C:\\Users\\ASUS\\AppData\\Local\\Temp\\ipykernel_23820\\4179258945.py:65: RuntimeWarning: Degrees of freedom <= 0 for slice.\n",
      "  return np.nanmean(np.square(y - np.nanmean(data_tmp, axis = 1))), np.nanmean(np.nanvar(data_tmp, axis=1))\n",
      "C:\\Users\\ASUS\\AppData\\Local\\Temp\\ipykernel_23820\\4179258945.py:65: RuntimeWarning: Mean of empty slice\n",
      "  return np.nanmean(np.square(y - np.nanmean(data_tmp, axis = 1))), np.nanmean(np.nanvar(data_tmp, axis=1))\n",
      "C:\\Users\\ASUS\\AppData\\Local\\Temp\\ipykernel_23820\\4179258945.py:65: RuntimeWarning: Degrees of freedom <= 0 for slice.\n",
      "  return np.nanmean(np.square(y - np.nanmean(data_tmp, axis = 1))), np.nanmean(np.nanvar(data_tmp, axis=1))\n",
      "C:\\Users\\ASUS\\AppData\\Local\\Temp\\ipykernel_23820\\4179258945.py:65: RuntimeWarning: Mean of empty slice\n",
      "  return np.nanmean(np.square(y - np.nanmean(data_tmp, axis = 1))), np.nanmean(np.nanvar(data_tmp, axis=1))\n",
      "C:\\Users\\ASUS\\AppData\\Local\\Temp\\ipykernel_23820\\4179258945.py:65: RuntimeWarning: Degrees of freedom <= 0 for slice.\n",
      "  return np.nanmean(np.square(y - np.nanmean(data_tmp, axis = 1))), np.nanmean(np.nanvar(data_tmp, axis=1))\n",
      "C:\\Users\\ASUS\\AppData\\Local\\Temp\\ipykernel_23820\\4179258945.py:65: RuntimeWarning: Mean of empty slice\n",
      "  return np.nanmean(np.square(y - np.nanmean(data_tmp, axis = 1))), np.nanmean(np.nanvar(data_tmp, axis=1))\n",
      "C:\\Users\\ASUS\\AppData\\Local\\Temp\\ipykernel_23820\\4179258945.py:65: RuntimeWarning: Degrees of freedom <= 0 for slice.\n",
      "  return np.nanmean(np.square(y - np.nanmean(data_tmp, axis = 1))), np.nanmean(np.nanvar(data_tmp, axis=1))\n",
      "C:\\Users\\ASUS\\AppData\\Local\\Temp\\ipykernel_23820\\4179258945.py:65: RuntimeWarning: Mean of empty slice\n",
      "  return np.nanmean(np.square(y - np.nanmean(data_tmp, axis = 1))), np.nanmean(np.nanvar(data_tmp, axis=1))\n",
      "C:\\Users\\ASUS\\AppData\\Local\\Temp\\ipykernel_23820\\4179258945.py:65: RuntimeWarning: Degrees of freedom <= 0 for slice.\n",
      "  return np.nanmean(np.square(y - np.nanmean(data_tmp, axis = 1))), np.nanmean(np.nanvar(data_tmp, axis=1))\n"
     ]
    },
    {
     "data": {
      "text/plain": "<Figure size 432x288 with 1 Axes>",
      "image/png": "[encoded data removed]"
     },
     "metadata": {
      "needs_background": "light"
     },
     "output_type": "display_data"
    }
   ],
   "source": [
    "np.random.seed(12345)\n",
    "\n",
    "bias_lst = []\n",
    "variance_lst = []\n",
    "\n",
    "for sample in range(0, 51, 10):\n",
    "    model = MyDecisionTreeRegressor(max_depth=10, min_samples_split=sample)\n",
    "    bias, variance = get_bias_variance(model, features_train, target_train, 10)\n",
    "    bias_lst.append(bias)\n",
    "    variance_lst.append(variance)\n",
    "plt.plot(range(0, 51, 10), bias_lst, label='bias')\n",
    "plt.plot(range(0, 51, 10), variance_lst, label='variance')\n",
    "plt.legend()\n",
    "plt.show()"
   ],
   "metadata": {
    "collapsed": false,
    "pycharm": {
     "name": "#%%\n"
    }
   }
  },
  {
   "cell_type": "markdown",
   "source": [
    "```  В случае переобучения модели, смещение минимально возможное от настоящего target.В случае увелечения min_samples_split дерево \"недообучается\" и значения variance будут меньше(точнее их разброс). Поэтому, на графике мы можем увидеть, что с увеличением значения параметра bias увеличивается так как смещение увеличивается.```"
   ],
   "metadata": {
    "collapsed": false,
    "pycharm": {
     "name": "#%% md\n"
    }
   }
  },
  {
   "cell_type": "markdown",
   "source": [
    "### Task 8 <a id=\"task8\"></a>  (0.5 points)\n",
    "\n",
    "Let's try to reduce variance with bagging. Use `sklearn.ensemble.BaggingRegressor` to get an ensemble and compute its bias and variance.\n",
    "\n",
    "Answer the following questions:\n",
    " - How bagging should affect bias and variance in theory?\n",
    " - How bias and variance change (if they change) compared to an individual tree in you experiments?\n",
    " - Do your results align with the theory? Why?"
   ],
   "metadata": {
    "collapsed": false,
    "pycharm": {
     "name": "#%% md\n"
    }
   }
  },
  {
   "cell_type": "code",
   "execution_count": 110,
   "outputs": [
    {
     "name": "stderr",
     "output_type": "stream",
     "text": [
      "C:\\Users\\ASUS\\AppData\\Local\\Temp\\ipykernel_23820\\4179258945.py:65: RuntimeWarning: Mean of empty slice\n",
      "  return np.nanmean(np.square(y - np.nanmean(data_tmp, axis = 1))), np.nanmean(np.nanvar(data_tmp, axis=1))\n",
      "C:\\Users\\ASUS\\AppData\\Local\\Temp\\ipykernel_23820\\4179258945.py:65: RuntimeWarning: Degrees of freedom <= 0 for slice.\n",
      "  return np.nanmean(np.square(y - np.nanmean(data_tmp, axis = 1))), np.nanmean(np.nanvar(data_tmp, axis=1))\n"
     ]
    },
    {
     "data": {
      "text/plain": "(17.559494587243048, 2.668438761355124)"
     },
     "execution_count": 110,
     "metadata": {},
     "output_type": "execute_result"
    }
   ],
   "source": [
    "from sklearn.ensemble import BaggingRegressor\n",
    "\n",
    "model = BaggingRegressor(base_estimator=MyDecisionTreeRegressor(max_depth=8, min_samples_split=15), n_estimators=10, random_state=12345)\n",
    "\n",
    "get_bias_variance(model, features_train, target_train, 10)"
   ],
   "metadata": {
    "collapsed": false,
    "pycharm": {
     "name": "#%%\n"
    }
   }
  },
  {
   "cell_type": "markdown",
   "source": [
    "# Part 2. More Ensembles"
   ],
   "metadata": {
    "collapsed": false,
    "pycharm": {
     "name": "#%% md\n"
    }
   }
  },
  {
   "cell_type": "code",
   "execution_count": 111,
   "outputs": [
    {
     "data": {
      "text/plain": "      age sex on_thyroxine query_on_thyroxine on_antithyroid_medication sick  \\\n0    41.0   F            f                  f                         f    f   \n1    23.0   F            f                  f                         f    f   \n2    46.0   M            f                  f                         f    f   \n3    70.0   F            t                  f                         f    f   \n4    70.0   F            f                  f                         f    f   \n..    ...  ..          ...                ...                       ...  ...   \n995  34.0   F            f                  f                         t    f   \n996  72.0   F            f                  f                         f    f   \n997  34.0   F            f                  f                         f    f   \n998  32.0   F            f                  f                         f    f   \n999  63.0   F            t                  f                         f    f   \n\n    pregnant thyroid_surgery I131_treatment query_hypothyroid  ...   T3  \\\n0          f               f              f                 f  ...  2.5   \n1          f               f              f                 f  ...  2.0   \n2          f               f              f                 f  ...  NaN   \n3          f               f              f                 f  ...  1.9   \n4          f               f              f                 f  ...  1.2   \n..       ...             ...            ...               ...  ...  ...   \n995        t               f              f                 f  ...  3.8   \n996        f               f              f                 f  ...  1.9   \n997        f               f              f                 f  ...  2.3   \n998        f               f              f                 f  ...  NaN   \n999        f               f              f                 f  ...  NaN   \n\n    TT4_measured    TT4 T4U_measured   T4U FTI_measured    FTI  TBG_measured  \\\n0              t  125.0            t  1.14            t  109.0             f   \n1              t  102.0            f   NaN            f    NaN             f   \n2              t  109.0            t  0.91            t  120.0             f   \n3              t  175.0            f   NaN            f    NaN             f   \n4              t   61.0            t  0.87            t   70.0             f   \n..           ...    ...          ...   ...          ...    ...           ...   \n995            t  205.0            t  1.84            t  111.0             f   \n996            t  141.0            t  1.09            t  129.0             f   \n997            t  139.0            t  1.06            t  131.0             f   \n998            f    NaN            f   NaN            f    NaN             f   \n999            t  166.0            t  0.97            t  170.0             f   \n\n    TBG  referral_source  \n0   NaN             SVHC  \n1   NaN            other  \n2   NaN            other  \n3   NaN            other  \n4   NaN              SVI  \n..   ..              ...  \n995 NaN             STMW  \n996 NaN            other  \n997 NaN            other  \n998 NaN            other  \n999 NaN            other  \n\n[1000 rows x 29 columns]",
      "text/html": "<div>\n<style scoped>\n    .dataframe tbody tr th:only-of-type {\n        vertical-align: middle;\n    }\n\n    .dataframe tbody tr th {\n        vertical-align: top;\n    }\n\n    .dataframe thead th {\n        text-align: right;\n    }\n</style>\n<table border=\"1\" class=\"dataframe\">\n  <thead>\n    <tr style=\"text-align: right;\">\n      <th></th>\n      <th>age</th>\n      <th>sex</th>\n      <th>on_thyroxine</th>\n      <th>query_on_thyroxine</th>\n      <th>on_antithyroid_medication</th>\n      <th>sick</th>\n      <th>pregnant</th>\n      <th>thyroid_surgery</th>\n      <th>I131_treatment</th>\n      <th>query_hypothyroid</th>\n      <th>...</th>\n      <th>T3</th>\n      <th>TT4_measured</th>\n      <th>TT4</th>\n      <th>T4U_measured</th>\n      <th>T4U</th>\n      <th>FTI_measured</th>\n      <th>FTI</th>\n      <th>TBG_measured</th>\n      <th>TBG</th>\n      <th>referral_source</th>\n    </tr>\n  </thead>\n  <tbody>\n    <tr>\n      <th>0</th>\n      <td>41.0</td>\n      <td>F</td>\n      <td>f</td>\n      <td>f</td>\n      <td>f</td>\n      <td>f</td>\n      <td>f</td>\n      <td>f</td>\n      <td>f</td>\n      <td>f</td>\n      <td>...</td>\n      <td>2.5</td>\n      <td>t</td>\n      <td>125.0</td>\n      <td>t</td>\n      <td>1.14</td>\n      <td>t</td>\n      <td>109.0</td>\n      <td>f</td>\n      <td>NaN</td>\n      <td>SVHC</td>\n    </tr>\n    <tr>\n      <th>1</th>\n      <td>23.0</td>\n      <td>F</td>\n      <td>f</td>\n      <td>f</td>\n      <td>f</td>\n      <td>f</td>\n      <td>f</td>\n      <td>f</td>\n      <td>f</td>\n      <td>f</td>\n      <td>...</td>\n      <td>2.0</td>\n      <td>t</td>\n      <td>102.0</td>\n      <td>f</td>\n      <td>NaN</td>\n      <td>f</td>\n      <td>NaN</td>\n      <td>f</td>\n      <td>NaN</td>\n      <td>other</td>\n    </tr>\n    <tr>\n      <th>2</th>\n      <td>46.0</td>\n      <td>M</td>\n      <td>f</td>\n      <td>f</td>\n      <td>f</td>\n      <td>f</td>\n      <td>f</td>\n      <td>f</td>\n      <td>f</td>\n      <td>f</td>\n      <td>...</td>\n      <td>NaN</td>\n      <td>t</td>\n      <td>109.0</td>\n      <td>t</td>\n      <td>0.91</td>\n      <td>t</td>\n      <td>120.0</td>\n      <td>f</td>\n      <td>NaN</td>\n      <td>other</td>\n    </tr>\n    <tr>\n      <th>3</th>\n      <td>70.0</td>\n      <td>F</td>\n      <td>t</td>\n      <td>f</td>\n      <td>f</td>\n      <td>f</td>\n      <td>f</td>\n      <td>f</td>\n      <td>f</td>\n      <td>f</td>\n      <td>...</td>\n      <td>1.9</td>\n      <td>t</td>\n      <td>175.0</td>\n      <td>f</td>\n      <td>NaN</td>\n      <td>f</td>\n      <td>NaN</td>\n      <td>f</td>\n      <td>NaN</td>\n      <td>other</td>\n    </tr>\n    <tr>\n      <th>4</th>\n      <td>70.0</td>\n      <td>F</td>\n      <td>f</td>\n      <td>f</td>\n      <td>f</td>\n      <td>f</td>\n      <td>f</td>\n      <td>f</td>\n      <td>f</td>\n      <td>f</td>\n      <td>...</td>\n      <td>1.2</td>\n      <td>t</td>\n      <td>61.0</td>\n      <td>t</td>\n      <td>0.87</td>\n      <td>t</td>\n      <td>70.0</td>\n      <td>f</td>\n      <td>NaN</td>\n      <td>SVI</td>\n    </tr>\n    <tr>\n      <th>...</th>\n      <td>...</td>\n      <td>...</td>\n      <td>...</td>\n      <td>...</td>\n      <td>...</td>\n      <td>...</td>\n      <td>...</td>\n      <td>...</td>\n      <td>...</td>\n      <td>...</td>\n      <td>...</td>\n      <td>...</td>\n      <td>...</td>\n      <td>...</td>\n      <td>...</td>\n      <td>...</td>\n      <td>...</td>\n      <td>...</td>\n      <td>...</td>\n      <td>...</td>\n      <td>...</td>\n    </tr>\n    <tr>\n      <th>995</th>\n      <td>34.0</td>\n      <td>F</td>\n      <td>f</td>\n      <td>f</td>\n      <td>t</td>\n      <td>f</td>\n      <td>t</td>\n      <td>f</td>\n      <td>f</td>\n      <td>f</td>\n      <td>...</td>\n      <td>3.8</td>\n      <td>t</td>\n      <td>205.0</td>\n      <td>t</td>\n      <td>1.84</td>\n      <td>t</td>\n      <td>111.0</td>\n      <td>f</td>\n      <td>NaN</td>\n      <td>STMW</td>\n    </tr>\n    <tr>\n      <th>996</th>\n      <td>72.0</td>\n      <td>F</td>\n      <td>f</td>\n      <td>f</td>\n      <td>f</td>\n      <td>f</td>\n      <td>f</td>\n      <td>f</td>\n      <td>f</td>\n      <td>f</td>\n      <td>...</td>\n      <td>1.9</td>\n      <td>t</td>\n      <td>141.0</td>\n      <td>t</td>\n      <td>1.09</td>\n      <td>t</td>\n      <td>129.0</td>\n      <td>f</td>\n      <td>NaN</td>\n      <td>other</td>\n    </tr>\n    <tr>\n      <th>997</th>\n      <td>34.0</td>\n      <td>F</td>\n      <td>f</td>\n      <td>f</td>\n      <td>f</td>\n      <td>f</td>\n      <td>f</td>\n      <td>f</td>\n      <td>f</td>\n      <td>f</td>\n      <td>...</td>\n      <td>2.3</td>\n      <td>t</td>\n      <td>139.0</td>\n      <td>t</td>\n      <td>1.06</td>\n      <td>t</td>\n      <td>131.0</td>\n      <td>f</td>\n      <td>NaN</td>\n      <td>other</td>\n    </tr>\n    <tr>\n      <th>998</th>\n      <td>32.0</td>\n      <td>F</td>\n      <td>f</td>\n      <td>f</td>\n      <td>f</td>\n      <td>f</td>\n      <td>f</td>\n      <td>f</td>\n      <td>f</td>\n      <td>f</td>\n      <td>...</td>\n      <td>NaN</td>\n      <td>f</td>\n      <td>NaN</td>\n      <td>f</td>\n      <td>NaN</td>\n      <td>f</td>\n      <td>NaN</td>\n      <td>f</td>\n      <td>NaN</td>\n      <td>other</td>\n    </tr>\n    <tr>\n      <th>999</th>\n      <td>63.0</td>\n      <td>F</td>\n      <td>t</td>\n      <td>f</td>\n      <td>f</td>\n      <td>f</td>\n      <td>f</td>\n      <td>f</td>\n      <td>f</td>\n      <td>f</td>\n      <td>...</td>\n      <td>NaN</td>\n      <td>t</td>\n      <td>166.0</td>\n      <td>t</td>\n      <td>0.97</td>\n      <td>t</td>\n      <td>170.0</td>\n      <td>f</td>\n      <td>NaN</td>\n      <td>other</td>\n    </tr>\n  </tbody>\n</table>\n<p>1000 rows × 29 columns</p>\n</div>"
     },
     "execution_count": 111,
     "metadata": {},
     "output_type": "execute_result"
    }
   ],
   "source": [
    "from sklearn.preprocessing import LabelEncoder\n",
    "\n",
    "df = pd.read_csv('D:/PY/dsProject1/thyroid_disease.csv')\n",
    "\n",
    "le = LabelEncoder()\n",
    "y = le.fit_transform(df['Class'])\n",
    "X = df.drop('Class', axis=1)\n",
    "X.head(1000)"
   ],
   "metadata": {
    "collapsed": false,
    "pycharm": {
     "name": "#%%\n"
    }
   }
  },
  {
   "cell_type": "markdown",
   "source": [
    "### Task 1 <a id=\"task2_1\"></a> (1 point)\n",
    "\n",
    "Let's start with data preprocessing.\n",
    "\n",
    "0. Drop columns, which are not usefull (e.g. a lot of missing values). Motivate your choice.\n",
    "1. Split dataset into train and test\n",
    "2. You've probably noticed that we have both categorical and numerical columns. Here is what you need to do with them:\n",
    "    - Categorical: Fill missing values and apply one-hot-encoding\n",
    "    - Numeric: Fill missing values\n",
    "\n",
    "Use `ColumnTranformer` to define a single transformer for all the columns in the dataset. It takes as input a list of tuples\n",
    "\n",
    "```\n",
    "ColumnTransformer([\n",
    "    ('name1', transform1, column_names1),\n",
    "    ('name2', transform2, column_names2)\n",
    "])\n",
    "```\n",
    "\n",
    "Pay attention to an argument `remainder='passthrough'`. [Here](https://scikit-learn.org/stable/modules/compose.html#column-transformer) you can find some examples of how to use column transformer.\n",
    "\n",
    "Since we want to apply 2 transformations to categorical feature, it is very convenient to combine them into a `Pipeline`:\n",
    "\n",
    "```\n",
    "double_tranform = make_pipeline(\n",
    "                        transform_1,\n",
    "                        transform_2\n",
    "                        )\n",
    "```\n",
    "\n",
    "P.S. Choose your favourite way to fill missing values.\n",
    "\n",
    "*Hint* Categorical column usually have `dtype = 'object'`. This may help to obtain list of categorical and numerical columns on the dataset."
   ],
   "metadata": {
    "collapsed": false,
    "pycharm": {
     "name": "#%% md\n"
    }
   }
  },
  {
   "cell_type": "code",
   "execution_count": 112,
   "outputs": [
    {
     "data": {
      "text/plain": "age                             1\nsex                           150\non_thyroxine                    0\nquery_on_thyroxine              0\non_antithyroid_medication       0\nsick                            0\npregnant                        0\nthyroid_surgery                 0\nI131_treatment                  0\nquery_hypothyroid               0\nquery_hyperthyroid              0\nlithium                         0\ngoitre                          0\ntumor                           0\nhypopituitary                   0\npsych                           0\nTSH_measured                    0\nTSH                           369\nT3_measured                     0\nT3                            769\nTT4_measured                    0\nTT4                           231\nT4U_measured                    0\nT4U                           387\nFTI_measured                    0\nFTI                           385\nTBG_measured                    0\nTBG                          3772\nreferral_source                 0\ndtype: int64"
     },
     "metadata": {},
     "output_type": "display_data"
    }
   ],
   "source": [
    "display(X.isnull().sum())"
   ],
   "metadata": {
    "collapsed": false,
    "pycharm": {
     "name": "#%%\n"
    }
   }
  },
  {
   "cell_type": "code",
   "execution_count": 113,
   "outputs": [
    {
     "name": "stdout",
     "output_type": "stream",
     "text": [
      "[3.9766702]\n",
      "[9.7826087]\n",
      "[20.38706257]\n",
      "[6.12407211]\n",
      "[10.25980912]\n",
      "[10.20678685]\n",
      "[100.]\n"
     ]
    }
   ],
   "source": [
    "print(X['sex'].isnull().sum()/X['sex'].shape*100)\n",
    "print(X['TSH'].isnull().sum()/X['TSH'].shape*100)\n",
    "print(X['T3'].isnull().sum()/X['T3'].shape*100)\n",
    "print(X['TT4'].isnull().sum()/X['TT4'].shape*100)\n",
    "print(X['T4U'].isnull().sum()/X['T4U'].shape*100)\n",
    "print(X['FTI'].isnull().sum()/X['FTI'].shape*100)\n",
    "print(X['TBG'].isnull().sum()/X['TBG'].shape*100)"
   ],
   "metadata": {
    "collapsed": false,
    "pycharm": {
     "name": "#%%\n"
    }
   }
  },
  {
   "cell_type": "code",
   "execution_count": 114,
   "outputs": [
    {
     "data": {
      "text/plain": "age                             1\nsex                           150\non_thyroxine                    0\nquery_on_thyroxine              0\non_antithyroid_medication       0\nsick                            0\npregnant                        0\nthyroid_surgery                 0\nI131_treatment                  0\nquery_hypothyroid               0\nquery_hyperthyroid              0\nlithium                         0\ngoitre                          0\ntumor                           0\nhypopituitary                   0\npsych                           0\nTSH_measured                    0\nTSH                           369\nT3_measured                     0\nT3                            769\nTT4_measured                    0\nTT4                           231\nT4U_measured                    0\nT4U                           387\nFTI_measured                    0\nFTI                           385\nTBG_measured                    0\nTBG                          3772\nreferral_source                 0\ndtype: int64"
     },
     "execution_count": 114,
     "metadata": {},
     "output_type": "execute_result"
    }
   ],
   "source": [
    "X.isna().sum()"
   ],
   "metadata": {
    "collapsed": false,
    "pycharm": {
     "name": "#%%\n"
    }
   }
  },
  {
   "cell_type": "code",
   "execution_count": 115,
   "outputs": [
    {
     "data": {
      "text/plain": "age                          0.000265\nsex                          0.039767\non_thyroxine                 0.000000\nquery_on_thyroxine           0.000000\non_antithyroid_medication    0.000000\nsick                         0.000000\npregnant                     0.000000\nthyroid_surgery              0.000000\nI131_treatment               0.000000\nquery_hypothyroid            0.000000\nquery_hyperthyroid           0.000000\nlithium                      0.000000\ngoitre                       0.000000\ntumor                        0.000000\nhypopituitary                0.000000\npsych                        0.000000\nTSH_measured                 0.000000\nTSH                          0.097826\nT3_measured                  0.000000\nT3                           0.203871\nTT4_measured                 0.000000\nTT4                          0.061241\nT4U_measured                 0.000000\nT4U                          0.102598\nFTI_measured                 0.000000\nFTI                          0.102068\nTBG_measured                 0.000000\nTBG                          1.000000\nreferral_source              0.000000\ndtype: float64"
     },
     "execution_count": 115,
     "metadata": {},
     "output_type": "execute_result"
    }
   ],
   "source": [
    "X.isna().mean()"
   ],
   "metadata": {
    "collapsed": false,
    "pycharm": {
     "name": "#%%\n"
    }
   }
  },
  {
   "cell_type": "markdown",
   "source": [
    "Столбец TBG полностью заполнен нулевыми значениями, его точно удалаем. Также удаляем TSH, T3,T4U и FTI так как у них процент нулевых значений около 10 и больше."
   ],
   "metadata": {
    "collapsed": false,
    "pycharm": {
     "name": "#%% md\n"
    }
   }
  },
  {
   "cell_type": "code",
   "execution_count": 116,
   "outputs": [
    {
     "name": "stdout",
     "output_type": "stream",
     "text": [
      "<class 'pandas.core.frame.DataFrame'>\n",
      "RangeIndex: 3772 entries, 0 to 3771\n",
      "Data columns (total 29 columns):\n",
      " #   Column                     Non-Null Count  Dtype  \n",
      "---  ------                     --------------  -----  \n",
      " 0   age                        3771 non-null   float64\n",
      " 1   sex                        3622 non-null   object \n",
      " 2   on_thyroxine               3772 non-null   object \n",
      " 3   query_on_thyroxine         3772 non-null   object \n",
      " 4   on_antithyroid_medication  3772 non-null   object \n",
      " 5   sick                       3772 non-null   object \n",
      " 6   pregnant                   3772 non-null   object \n",
      " 7   thyroid_surgery            3772 non-null   object \n",
      " 8   I131_treatment             3772 non-null   object \n",
      " 9   query_hypothyroid          3772 non-null   object \n",
      " 10  query_hyperthyroid         3772 non-null   object \n",
      " 11  lithium                    3772 non-null   object \n",
      " 12  goitre                     3772 non-null   object \n",
      " 13  tumor                      3772 non-null   object \n",
      " 14  hypopituitary              3772 non-null   object \n",
      " 15  psych                      3772 non-null   object \n",
      " 16  TSH_measured               3772 non-null   object \n",
      " 17  TSH                        3403 non-null   float64\n",
      " 18  T3_measured                3772 non-null   object \n",
      " 19  T3                         3003 non-null   float64\n",
      " 20  TT4_measured               3772 non-null   object \n",
      " 21  TT4                        3541 non-null   float64\n",
      " 22  T4U_measured               3772 non-null   object \n",
      " 23  T4U                        3385 non-null   float64\n",
      " 24  FTI_measured               3772 non-null   object \n",
      " 25  FTI                        3387 non-null   float64\n",
      " 26  TBG_measured               3772 non-null   object \n",
      " 27  TBG                        0 non-null      float64\n",
      " 28  referral_source            3772 non-null   object \n",
      "dtypes: float64(7), object(22)\n",
      "memory usage: 854.7+ KB\n"
     ]
    },
    {
     "data": {
      "text/plain": "age                             1\nsex                           150\non_thyroxine                    0\nquery_on_thyroxine              0\non_antithyroid_medication       0\nsick                            0\npregnant                        0\nthyroid_surgery                 0\nI131_treatment                  0\nquery_hypothyroid               0\nquery_hyperthyroid              0\nlithium                         0\ngoitre                          0\ntumor                           0\nhypopituitary                   0\npsych                           0\nTSH_measured                    0\nTSH                           369\nT3_measured                     0\nT3                            769\nTT4_measured                    0\nTT4                           231\nT4U_measured                    0\nT4U                           387\nFTI_measured                    0\nFTI                           385\nTBG_measured                    0\nTBG                          3772\nreferral_source                 0\ndtype: int64"
     },
     "metadata": {},
     "output_type": "display_data"
    },
    {
     "data": {
      "text/plain": "age                            1\nsex                          150\non_thyroxine                   0\nquery_on_thyroxine             0\non_antithyroid_medication      0\nsick                           0\npregnant                       0\nthyroid_surgery                0\nI131_treatment                 0\nquery_hypothyroid              0\nquery_hyperthyroid             0\nlithium                        0\ngoitre                         0\ntumor                          0\nhypopituitary                  0\npsych                          0\nTSH_measured                   0\nT3_measured                    0\nTT4_measured                   0\nTT4                          231\nT4U_measured                   0\nFTI_measured                   0\nTBG_measured                   0\nreferral_source                0\ndtype: int64"
     },
     "metadata": {},
     "output_type": "display_data"
    },
    {
     "name": "stdout",
     "output_type": "stream",
     "text": [
      "<class 'pandas.core.frame.DataFrame'>\n",
      "RangeIndex: 3772 entries, 0 to 3771\n",
      "Data columns (total 24 columns):\n",
      " #   Column                     Non-Null Count  Dtype  \n",
      "---  ------                     --------------  -----  \n",
      " 0   age                        3771 non-null   float64\n",
      " 1   sex                        3622 non-null   object \n",
      " 2   on_thyroxine               3772 non-null   object \n",
      " 3   query_on_thyroxine         3772 non-null   object \n",
      " 4   on_antithyroid_medication  3772 non-null   object \n",
      " 5   sick                       3772 non-null   object \n",
      " 6   pregnant                   3772 non-null   object \n",
      " 7   thyroid_surgery            3772 non-null   object \n",
      " 8   I131_treatment             3772 non-null   object \n",
      " 9   query_hypothyroid          3772 non-null   object \n",
      " 10  query_hyperthyroid         3772 non-null   object \n",
      " 11  lithium                    3772 non-null   object \n",
      " 12  goitre                     3772 non-null   object \n",
      " 13  tumor                      3772 non-null   object \n",
      " 14  hypopituitary              3772 non-null   object \n",
      " 15  psych                      3772 non-null   object \n",
      " 16  TSH_measured               3772 non-null   object \n",
      " 17  T3_measured                3772 non-null   object \n",
      " 18  TT4_measured               3772 non-null   object \n",
      " 19  TT4                        3541 non-null   float64\n",
      " 20  T4U_measured               3772 non-null   object \n",
      " 21  FTI_measured               3772 non-null   object \n",
      " 22  TBG_measured               3772 non-null   object \n",
      " 23  referral_source            3772 non-null   object \n",
      "dtypes: float64(2), object(22)\n",
      "memory usage: 707.4+ KB\n"
     ]
    }
   ],
   "source": [
    "X.info()\n",
    "display(X.isnull().sum())\n",
    "\n",
    "X =X.drop('TBG',axis = 1)\n",
    "X =X.drop('TSH',axis = 1)\n",
    "X =X.drop('T3',axis = 1)\n",
    "X =X.drop('T4U',axis = 1)\n",
    "X =X.drop('FTI',axis = 1)\n",
    "display(X.isnull().sum())\n",
    "X.info()"
   ],
   "metadata": {
    "collapsed": false,
    "pycharm": {
     "name": "#%%\n"
    }
   }
  },
  {
   "cell_type": "code",
   "execution_count": 117,
   "outputs": [],
   "source": [
    "from sklearn.model_selection import train_test_split\n",
    "\n",
    "features_train,features_test,target_train,target_test = train_test_split(X,y,test_size = 0.25,random_state = 12345)"
   ],
   "metadata": {
    "collapsed": false,
    "pycharm": {
     "name": "#%%\n"
    }
   }
  },
  {
   "cell_type": "code",
   "execution_count": 118,
   "outputs": [
    {
     "data": {
      "text/plain": "     0           1    2    3    4    5    6    7    8    9   ...   38   39  \\\n0  18.0  107.826868  1.0  0.0  1.0  0.0  1.0  0.0  1.0  0.0  ...  1.0  0.0   \n1  70.0  141.000000  1.0  0.0  1.0  0.0  1.0  0.0  1.0  0.0  ...  0.0  1.0   \n2  25.0  183.000000  1.0  0.0  0.0  1.0  1.0  0.0  1.0  0.0  ...  0.0  1.0   \n3  71.0  123.000000  1.0  0.0  1.0  0.0  1.0  0.0  1.0  0.0  ...  0.0  1.0   \n4  26.0  113.000000  1.0  0.0  1.0  0.0  1.0  0.0  1.0  0.0  ...  0.0  1.0   \n\n    40   41   42   43   44   45   46   47  \n0  1.0  0.0  1.0  0.0  0.0  0.0  0.0  1.0  \n1  0.0  1.0  1.0  0.0  0.0  0.0  1.0  0.0  \n2  0.0  1.0  1.0  0.0  0.0  0.0  0.0  1.0  \n3  0.0  1.0  1.0  0.0  0.0  0.0  1.0  0.0  \n4  0.0  1.0  1.0  0.0  1.0  0.0  0.0  0.0  \n\n[5 rows x 48 columns]",
      "text/html": "<div>\n<style scoped>\n    .dataframe tbody tr th:only-of-type {\n        vertical-align: middle;\n    }\n\n    .dataframe tbody tr th {\n        vertical-align: top;\n    }\n\n    .dataframe thead th {\n        text-align: right;\n    }\n</style>\n<table border=\"1\" class=\"dataframe\">\n  <thead>\n    <tr style=\"text-align: right;\">\n      <th></th>\n      <th>0</th>\n      <th>1</th>\n      <th>2</th>\n      <th>3</th>\n      <th>4</th>\n      <th>5</th>\n      <th>6</th>\n      <th>7</th>\n      <th>8</th>\n      <th>9</th>\n      <th>...</th>\n      <th>38</th>\n      <th>39</th>\n      <th>40</th>\n      <th>41</th>\n      <th>42</th>\n      <th>43</th>\n      <th>44</th>\n      <th>45</th>\n      <th>46</th>\n      <th>47</th>\n    </tr>\n  </thead>\n  <tbody>\n    <tr>\n      <th>0</th>\n      <td>18.0</td>\n      <td>107.826868</td>\n      <td>1.0</td>\n      <td>0.0</td>\n      <td>1.0</td>\n      <td>0.0</td>\n      <td>1.0</td>\n      <td>0.0</td>\n      <td>1.0</td>\n      <td>0.0</td>\n      <td>...</td>\n      <td>1.0</td>\n      <td>0.0</td>\n      <td>1.0</td>\n      <td>0.0</td>\n      <td>1.0</td>\n      <td>0.0</td>\n      <td>0.0</td>\n      <td>0.0</td>\n      <td>0.0</td>\n      <td>1.0</td>\n    </tr>\n    <tr>\n      <th>1</th>\n      <td>70.0</td>\n      <td>141.000000</td>\n      <td>1.0</td>\n      <td>0.0</td>\n      <td>1.0</td>\n      <td>0.0</td>\n      <td>1.0</td>\n      <td>0.0</td>\n      <td>1.0</td>\n      <td>0.0</td>\n      <td>...</td>\n      <td>0.0</td>\n      <td>1.0</td>\n      <td>0.0</td>\n      <td>1.0</td>\n      <td>1.0</td>\n      <td>0.0</td>\n      <td>0.0</td>\n      <td>0.0</td>\n      <td>1.0</td>\n      <td>0.0</td>\n    </tr>\n    <tr>\n      <th>2</th>\n      <td>25.0</td>\n      <td>183.000000</td>\n      <td>1.0</td>\n      <td>0.0</td>\n      <td>0.0</td>\n      <td>1.0</td>\n      <td>1.0</td>\n      <td>0.0</td>\n      <td>1.0</td>\n      <td>0.0</td>\n      <td>...</td>\n      <td>0.0</td>\n      <td>1.0</td>\n      <td>0.0</td>\n      <td>1.0</td>\n      <td>1.0</td>\n      <td>0.0</td>\n      <td>0.0</td>\n      <td>0.0</td>\n      <td>0.0</td>\n      <td>1.0</td>\n    </tr>\n    <tr>\n      <th>3</th>\n      <td>71.0</td>\n      <td>123.000000</td>\n      <td>1.0</td>\n      <td>0.0</td>\n      <td>1.0</td>\n      <td>0.0</td>\n      <td>1.0</td>\n      <td>0.0</td>\n      <td>1.0</td>\n      <td>0.0</td>\n      <td>...</td>\n      <td>0.0</td>\n      <td>1.0</td>\n      <td>0.0</td>\n      <td>1.0</td>\n      <td>1.0</td>\n      <td>0.0</td>\n      <td>0.0</td>\n      <td>0.0</td>\n      <td>1.0</td>\n      <td>0.0</td>\n    </tr>\n    <tr>\n      <th>4</th>\n      <td>26.0</td>\n      <td>113.000000</td>\n      <td>1.0</td>\n      <td>0.0</td>\n      <td>1.0</td>\n      <td>0.0</td>\n      <td>1.0</td>\n      <td>0.0</td>\n      <td>1.0</td>\n      <td>0.0</td>\n      <td>...</td>\n      <td>0.0</td>\n      <td>1.0</td>\n      <td>0.0</td>\n      <td>1.0</td>\n      <td>1.0</td>\n      <td>0.0</td>\n      <td>1.0</td>\n      <td>0.0</td>\n      <td>0.0</td>\n      <td>0.0</td>\n    </tr>\n  </tbody>\n</table>\n<p>5 rows × 48 columns</p>\n</div>"
     },
     "metadata": {},
     "output_type": "display_data"
    },
    {
     "data": {
      "text/plain": "     0           1    2    3    4    5    6    7    8    9   ...   38   39  \\\n0  46.0  233.000000  1.0  0.0  1.0  0.0  1.0  0.0  1.0  0.0  ...  0.0  1.0   \n1  57.0  107.826868  1.0  0.0  1.0  0.0  1.0  0.0  1.0  0.0  ...  1.0  0.0   \n2  23.0  107.826868  0.0  1.0  1.0  0.0  1.0  0.0  1.0  0.0  ...  1.0  0.0   \n3  26.0  107.826868  1.0  0.0  1.0  0.0  1.0  0.0  1.0  0.0  ...  1.0  0.0   \n4  43.0  182.000000  1.0  0.0  0.0  1.0  1.0  0.0  1.0  0.0  ...  0.0  1.0   \n\n    40   41   42   43   44   45   46   47  \n0  0.0  1.0  1.0  0.0  0.0  0.0  0.0  1.0  \n1  1.0  0.0  1.0  0.0  0.0  0.0  0.0  1.0  \n2  1.0  0.0  1.0  0.0  0.0  0.0  0.0  1.0  \n3  1.0  0.0  1.0  0.0  0.0  0.0  0.0  1.0  \n4  0.0  1.0  1.0  0.0  0.0  0.0  0.0  1.0  \n\n[5 rows x 48 columns]",
      "text/html": "<div>\n<style scoped>\n    .dataframe tbody tr th:only-of-type {\n        vertical-align: middle;\n    }\n\n    .dataframe tbody tr th {\n        vertical-align: top;\n    }\n\n    .dataframe thead th {\n        text-align: right;\n    }\n</style>\n<table border=\"1\" class=\"dataframe\">\n  <thead>\n    <tr style=\"text-align: right;\">\n      <th></th>\n      <th>0</th>\n      <th>1</th>\n      <th>2</th>\n      <th>3</th>\n      <th>4</th>\n      <th>5</th>\n      <th>6</th>\n      <th>7</th>\n      <th>8</th>\n      <th>9</th>\n      <th>...</th>\n      <th>38</th>\n      <th>39</th>\n      <th>40</th>\n      <th>41</th>\n      <th>42</th>\n      <th>43</th>\n      <th>44</th>\n      <th>45</th>\n      <th>46</th>\n      <th>47</th>\n    </tr>\n  </thead>\n  <tbody>\n    <tr>\n      <th>0</th>\n      <td>46.0</td>\n      <td>233.000000</td>\n      <td>1.0</td>\n      <td>0.0</td>\n      <td>1.0</td>\n      <td>0.0</td>\n      <td>1.0</td>\n      <td>0.0</td>\n      <td>1.0</td>\n      <td>0.0</td>\n      <td>...</td>\n      <td>0.0</td>\n      <td>1.0</td>\n      <td>0.0</td>\n      <td>1.0</td>\n      <td>1.0</td>\n      <td>0.0</td>\n      <td>0.0</td>\n      <td>0.0</td>\n      <td>0.0</td>\n      <td>1.0</td>\n    </tr>\n    <tr>\n      <th>1</th>\n      <td>57.0</td>\n      <td>107.826868</td>\n      <td>1.0</td>\n      <td>0.0</td>\n      <td>1.0</td>\n      <td>0.0</td>\n      <td>1.0</td>\n      <td>0.0</td>\n      <td>1.0</td>\n      <td>0.0</td>\n      <td>...</td>\n      <td>1.0</td>\n      <td>0.0</td>\n      <td>1.0</td>\n      <td>0.0</td>\n      <td>1.0</td>\n      <td>0.0</td>\n      <td>0.0</td>\n      <td>0.0</td>\n      <td>0.0</td>\n      <td>1.0</td>\n    </tr>\n    <tr>\n      <th>2</th>\n      <td>23.0</td>\n      <td>107.826868</td>\n      <td>0.0</td>\n      <td>1.0</td>\n      <td>1.0</td>\n      <td>0.0</td>\n      <td>1.0</td>\n      <td>0.0</td>\n      <td>1.0</td>\n      <td>0.0</td>\n      <td>...</td>\n      <td>1.0</td>\n      <td>0.0</td>\n      <td>1.0</td>\n      <td>0.0</td>\n      <td>1.0</td>\n      <td>0.0</td>\n      <td>0.0</td>\n      <td>0.0</td>\n      <td>0.0</td>\n      <td>1.0</td>\n    </tr>\n    <tr>\n      <th>3</th>\n      <td>26.0</td>\n      <td>107.826868</td>\n      <td>1.0</td>\n      <td>0.0</td>\n      <td>1.0</td>\n      <td>0.0</td>\n      <td>1.0</td>\n      <td>0.0</td>\n      <td>1.0</td>\n      <td>0.0</td>\n      <td>...</td>\n      <td>1.0</td>\n      <td>0.0</td>\n      <td>1.0</td>\n      <td>0.0</td>\n      <td>1.0</td>\n      <td>0.0</td>\n      <td>0.0</td>\n      <td>0.0</td>\n      <td>0.0</td>\n      <td>1.0</td>\n    </tr>\n    <tr>\n      <th>4</th>\n      <td>43.0</td>\n      <td>182.000000</td>\n      <td>1.0</td>\n      <td>0.0</td>\n      <td>0.0</td>\n      <td>1.0</td>\n      <td>1.0</td>\n      <td>0.0</td>\n      <td>1.0</td>\n      <td>0.0</td>\n      <td>...</td>\n      <td>0.0</td>\n      <td>1.0</td>\n      <td>0.0</td>\n      <td>1.0</td>\n      <td>1.0</td>\n      <td>0.0</td>\n      <td>0.0</td>\n      <td>0.0</td>\n      <td>0.0</td>\n      <td>1.0</td>\n    </tr>\n  </tbody>\n</table>\n<p>5 rows × 48 columns</p>\n</div>"
     },
     "execution_count": 118,
     "metadata": {},
     "output_type": "execute_result"
    }
   ],
   "source": [
    "from sklearn.pipeline import make_pipeline\n",
    "from sklearn.compose import ColumnTransformer, make_column_transformer, make_column_selector\n",
    "from sklearn.preprocessing import OneHotEncoder\n",
    "from sklearn.impute import SimpleImputer\n",
    "ohe = OneHotEncoder()\n",
    "imp = SimpleImputer(strategy = 'mean')\n",
    "\n",
    "categorical_features = X.columns[X.dtypes == 'object']\n",
    "numerical_features = X.columns[X.dtypes != 'object']\n",
    "# YOUR CODE HERE\n",
    "# define column_transformer\n",
    "\n",
    "\n",
    "\n",
    "#column_transformer = make_column_transformer((ohe,X.drop(['Age','TT4'],axis = 1)),\n",
    "                                      #       (imp,['Age','TT4']))\n",
    "#column_transformer = ColumnTransformer([\n",
    "         #  ('imp', imp, make_column_selector(dtype_include=np.number)),\n",
    "        #    ('onehot',ohe,make_column_selector(pattern='category', dtype_include=object))])\n",
    "\n",
    "column_transformer = ColumnTransformer([\n",
    "    ('numeric',imp,numerical_features),\n",
    "    ( 'category',make_pipeline(SimpleImputer(strategy='most_frequent'),ohe),categorical_features)])\n",
    "\n",
    "# Transform the data\n",
    "X_train = column_transformer.fit_transform(features_train)\n",
    "X_test = column_transformer.transform(features_test)\n",
    "#print(X_train)\n",
    "#print(X_test)\n",
    "#X_train\n",
    "display(pd.DataFrame(X_train).head())\n",
    "pd.DataFrame(X_test).head()"
   ],
   "metadata": {
    "collapsed": false,
    "pycharm": {
     "name": "#%%\n"
    }
   }
  },
  {
   "cell_type": "markdown",
   "source": [
    "### Task 2 <a id=\"task2_2\"></a> (0.7 points)\n",
    "\n",
    "Fit and compare 5 different models (use sklearn): Gradient Boosting, Random Forest, Decision Tree, SVM, Logitics Regression\n",
    "\n",
    "* Choose one classification metric and justify your choice .\n",
    "* Compare the models using score on cross validation. Mind the class balance when choosing the cross validation. (You can read more about different CV strategies [here](https://scikit-learn.org/stable/modules/cross_validation.html#stratified-k-fold))\n",
    "* Which model has the best performance? Which models overfit or underfit?"
   ],
   "metadata": {
    "collapsed": false,
    "pycharm": {
     "name": "#%% md\n"
    }
   }
  },
  {
   "cell_type": "code",
   "execution_count": 119,
   "outputs": [],
   "source": [
    "from sklearn.tree import DecisionTreeClassifier\n",
    "from sklearn.ensemble import GradientBoostingClassifier\n",
    "from sklearn.ensemble import RandomForestClassifier\n",
    "from sklearn import svm\n",
    "from sklearn.linear_model import LogisticRegression\n",
    "from sklearn.model_selection import StratifiedKFold\n",
    "from sklearn.metrics import accuracy_score, f1_score\n",
    "from statistics import mean"
   ],
   "metadata": {
    "collapsed": false,
    "pycharm": {
     "name": "#%%\n"
    }
   }
  },
  {
   "cell_type": "code",
   "execution_count": 120,
   "outputs": [],
   "source": [
    "def cross_val_fit(model,skf):\n",
    "    model.fit(X_train, target_train)\n",
    "    predicted = model.predict(X_train)\n",
    "    accscore = accuracy_score(predicted, target_train)\n",
    "    f1score = f1_score(model.predict(X_train), target_train)\n",
    "    cross_valsc = cross_val_score(model, X_train, target_train, cv=skf, scoring='f1', verbose=30)\n",
    "    mean_score = sum(cross_valsc) / cross_valsc.shape\n",
    "    print('Mean of scores', mean_score)\n",
    "    print('standart Accuracy score of scores', accscore)\n",
    "    print('standart f1 score of scores', f1score)"
   ],
   "metadata": {
    "collapsed": false,
    "pycharm": {
     "name": "#%%\n"
    }
   }
  },
  {
   "cell_type": "markdown",
   "source": [
    "### Decision Tree Classifier"
   ],
   "metadata": {
    "collapsed": false,
    "pycharm": {
     "name": "#%% md\n"
    }
   }
  },
  {
   "cell_type": "code",
   "execution_count": 121,
   "outputs": [
    {
     "name": "stdout",
     "output_type": "stream",
     "text": [
      "[CV] START .....................................................................\n",
      "[CV] END ................................ score: (test=0.157) total time=   0.0s\n",
      "[CV] START .....................................................................\n",
      "[CV] END ................................ score: (test=0.195) total time=   0.0s\n",
      "[CV] START .....................................................................\n",
      "[CV] END ................................ score: (test=0.188) total time=   0.0s\n",
      "Mean of scores [0.18012855]\n",
      "standart Accuracy score of scores 0.9982325910215624\n",
      "standart f1 score of scores 0.9850746268656716\n"
     ]
    },
    {
     "name": "stderr",
     "output_type": "stream",
     "text": [
      "[Parallel(n_jobs=1)]: Using backend SequentialBackend with 1 concurrent workers.\n",
      "[Parallel(n_jobs=1)]: Done   1 out of   1 | elapsed:    0.0s remaining:    0.0s\n",
      "[Parallel(n_jobs=1)]: Done   2 out of   2 | elapsed:    0.0s remaining:    0.0s\n",
      "[Parallel(n_jobs=1)]: Done   3 out of   3 | elapsed:    0.0s remaining:    0.0s\n",
      "[Parallel(n_jobs=1)]: Done   3 out of   3 | elapsed:    0.0s finished\n"
     ]
    }
   ],
   "source": [
    "\n",
    "from sklearn.model_selection import cross_val_score\n",
    "\n",
    "# YOUR CODE HERE\n",
    "skf = StratifiedKFold(n_splits=3)\n",
    "model = DecisionTreeClassifier()\n",
    "cross_val_fit(model,skf)"
   ],
   "metadata": {
    "collapsed": false,
    "pycharm": {
     "name": "#%%\n"
    }
   }
  },
  {
   "cell_type": "markdown",
   "source": [
    "### Gradient Boosting Classifier"
   ],
   "metadata": {
    "collapsed": false,
    "pycharm": {
     "name": "#%% md\n"
    }
   }
  },
  {
   "cell_type": "code",
   "execution_count": 122,
   "outputs": [
    {
     "name": "stderr",
     "output_type": "stream",
     "text": [
      "[Parallel(n_jobs=1)]: Using backend SequentialBackend with 1 concurrent workers.\n"
     ]
    },
    {
     "name": "stdout",
     "output_type": "stream",
     "text": [
      "[CV] START .....................................................................\n",
      "[CV] END ................................ score: (test=0.125) total time=   0.4s\n",
      "[CV] START .....................................................................\n"
     ]
    },
    {
     "name": "stderr",
     "output_type": "stream",
     "text": [
      "[Parallel(n_jobs=1)]: Done   1 out of   1 | elapsed:    0.4s remaining:    0.0s\n"
     ]
    },
    {
     "name": "stdout",
     "output_type": "stream",
     "text": [
      "[CV] END ................................ score: (test=0.234) total time=   0.5s\n",
      "[CV] START .....................................................................\n"
     ]
    },
    {
     "name": "stderr",
     "output_type": "stream",
     "text": [
      "[Parallel(n_jobs=1)]: Done   2 out of   2 | elapsed:    1.0s remaining:    0.0s\n"
     ]
    },
    {
     "name": "stdout",
     "output_type": "stream",
     "text": [
      "[CV] END ................................ score: (test=0.088) total time=   0.5s\n",
      "Mean of scores [0.14909262]\n",
      "standart Accuracy score of scores 0.9529869211735595\n",
      "standart f1 score of scores 0.3813953488372093\n"
     ]
    },
    {
     "name": "stderr",
     "output_type": "stream",
     "text": [
      "[Parallel(n_jobs=1)]: Done   3 out of   3 | elapsed:    1.6s remaining:    0.0s\n",
      "[Parallel(n_jobs=1)]: Done   3 out of   3 | elapsed:    1.6s finished\n"
     ]
    }
   ],
   "source": [
    "# YOUR CODE HERE\n",
    "from sklearn.model_selection import cross_val_score\n",
    "\n",
    "# YOUR CODE HERE\n",
    "skf = StratifiedKFold(n_splits=3)\n",
    "model = GradientBoostingClassifier()\n",
    "cross_val_fit(model,skf)"
   ],
   "metadata": {
    "collapsed": false,
    "pycharm": {
     "name": "#%%\n"
    }
   }
  },
  {
   "cell_type": "markdown",
   "source": [
    "### Random State Classifier"
   ],
   "metadata": {
    "collapsed": false,
    "pycharm": {
     "name": "#%% md\n"
    }
   }
  },
  {
   "cell_type": "code",
   "execution_count": 123,
   "outputs": [
    {
     "name": "stderr",
     "output_type": "stream",
     "text": [
      "[Parallel(n_jobs=1)]: Using backend SequentialBackend with 1 concurrent workers.\n"
     ]
    },
    {
     "name": "stdout",
     "output_type": "stream",
     "text": [
      "[CV] START .....................................................................\n",
      "[CV] END ................................ score: (test=0.262) total time=   0.5s\n",
      "[CV] START .....................................................................\n"
     ]
    },
    {
     "name": "stderr",
     "output_type": "stream",
     "text": [
      "[Parallel(n_jobs=1)]: Done   1 out of   1 | elapsed:    0.5s remaining:    0.0s\n"
     ]
    },
    {
     "name": "stdout",
     "output_type": "stream",
     "text": [
      "[CV] END ................................ score: (test=0.161) total time=   0.5s\n",
      "[CV] START .....................................................................\n"
     ]
    },
    {
     "name": "stderr",
     "output_type": "stream",
     "text": [
      "[Parallel(n_jobs=1)]: Done   2 out of   2 | elapsed:    1.0s remaining:    0.0s\n"
     ]
    },
    {
     "name": "stdout",
     "output_type": "stream",
     "text": [
      "[CV] END ................................ score: (test=0.104) total time=   0.4s\n",
      "Mean of scores [0.17557347]\n",
      "standart Accuracy score of scores 0.9982325910215624\n",
      "standart f1 score of scores 0.9851632047477744\n"
     ]
    },
    {
     "name": "stderr",
     "output_type": "stream",
     "text": [
      "[Parallel(n_jobs=1)]: Done   3 out of   3 | elapsed:    1.5s remaining:    0.0s\n",
      "[Parallel(n_jobs=1)]: Done   3 out of   3 | elapsed:    1.5s finished\n"
     ]
    }
   ],
   "source": [
    "# YOUR CODE HERE\n",
    "from sklearn.model_selection import cross_val_score\n",
    "\n",
    "# YOUR CODE HERE\n",
    "skf = StratifiedKFold(n_splits=3)\n",
    "model = RandomForestClassifier()\n",
    "cross_val_fit(model,skf)"
   ],
   "metadata": {
    "collapsed": false,
    "pycharm": {
     "name": "#%%\n"
    }
   }
  },
  {
   "cell_type": "markdown",
   "source": [
    "### SVM"
   ],
   "metadata": {
    "collapsed": false,
    "pycharm": {
     "name": "#%% md\n"
    }
   }
  },
  {
   "cell_type": "code",
   "execution_count": 124,
   "outputs": [
    {
     "name": "stderr",
     "output_type": "stream",
     "text": [
      "[Parallel(n_jobs=1)]: Using backend SequentialBackend with 1 concurrent workers.\n",
      "[Parallel(n_jobs=1)]: Done   1 out of   1 | elapsed:    0.1s remaining:    0.0s\n"
     ]
    },
    {
     "name": "stdout",
     "output_type": "stream",
     "text": [
      "[CV] START .....................................................................\n",
      "[CV] END ................................ score: (test=0.000) total time=   0.1s\n",
      "[CV] START .....................................................................\n",
      "[CV] END ................................ score: (test=0.000) total time=   0.1s\n",
      "[CV] START .....................................................................\n",
      "[CV] END ................................ score: (test=0.000) total time=   0.0s\n",
      "Mean of scores [0.]\n",
      "standart Accuracy score of scores 0.9399080947331212\n",
      "standart f1 score of scores 0.0\n"
     ]
    },
    {
     "name": "stderr",
     "output_type": "stream",
     "text": [
      "[Parallel(n_jobs=1)]: Done   2 out of   2 | elapsed:    0.2s remaining:    0.0s\n",
      "[Parallel(n_jobs=1)]: Done   3 out of   3 | elapsed:    0.4s remaining:    0.0s\n",
      "[Parallel(n_jobs=1)]: Done   3 out of   3 | elapsed:    0.4s finished\n"
     ]
    }
   ],
   "source": [
    "from sklearn.model_selection import cross_val_score\n",
    "\n",
    "# YOUR CODE HERE\n",
    "skf = StratifiedKFold(n_splits=3)\n",
    "model = svm.SVC()\n",
    "cross_val_fit(model,skf)"
   ],
   "metadata": {
    "collapsed": false,
    "pycharm": {
     "name": "#%%\n"
    }
   }
  },
  {
   "cell_type": "markdown",
   "source": [
    "### Logistic Regression"
   ],
   "metadata": {
    "collapsed": false,
    "pycharm": {
     "name": "#%% md\n"
    }
   }
  },
  {
   "cell_type": "code",
   "execution_count": 125,
   "outputs": [
    {
     "name": "stdout",
     "output_type": "stream",
     "text": [
      "[CV] START .....................................................................\n",
      "[CV] END ................................ score: (test=0.000) total time=   0.0s\n",
      "[CV] START .....................................................................\n"
     ]
    },
    {
     "name": "stderr",
     "output_type": "stream",
     "text": [
      "C:\\Users\\ASUS\\anaconda3\\lib\\site-packages\\sklearn\\linear_model\\_logistic.py:814: ConvergenceWarning: lbfgs failed to converge (status=1):\n",
      "STOP: TOTAL NO. of ITERATIONS REACHED LIMIT.\n",
      "\n",
      "Increase the number of iterations (max_iter) or scale the data as shown in:\n",
      "    https://scikit-learn.org/stable/modules/preprocessing.html\n",
      "Please also refer to the documentation for alternative solver options:\n",
      "    https://scikit-learn.org/stable/modules/linear_model.html#logistic-regression\n",
      "  n_iter_i = _check_optimize_result(\n",
      "[Parallel(n_jobs=1)]: Using backend SequentialBackend with 1 concurrent workers.\n",
      "C:\\Users\\ASUS\\anaconda3\\lib\\site-packages\\sklearn\\linear_model\\_logistic.py:814: ConvergenceWarning: lbfgs failed to converge (status=1):\n",
      "STOP: TOTAL NO. of ITERATIONS REACHED LIMIT.\n",
      "\n",
      "Increase the number of iterations (max_iter) or scale the data as shown in:\n",
      "    https://scikit-learn.org/stable/modules/preprocessing.html\n",
      "Please also refer to the documentation for alternative solver options:\n",
      "    https://scikit-learn.org/stable/modules/linear_model.html#logistic-regression\n",
      "  n_iter_i = _check_optimize_result(\n",
      "[Parallel(n_jobs=1)]: Done   1 out of   1 | elapsed:    0.0s remaining:    0.0s\n",
      "C:\\Users\\ASUS\\anaconda3\\lib\\site-packages\\sklearn\\linear_model\\_logistic.py:814: ConvergenceWarning: lbfgs failed to converge (status=1):\n",
      "STOP: TOTAL NO. of ITERATIONS REACHED LIMIT.\n",
      "\n",
      "Increase the number of iterations (max_iter) or scale the data as shown in:\n",
      "    https://scikit-learn.org/stable/modules/preprocessing.html\n",
      "Please also refer to the documentation for alternative solver options:\n",
      "    https://scikit-learn.org/stable/modules/linear_model.html#logistic-regression\n",
      "  n_iter_i = _check_optimize_result(\n"
     ]
    },
    {
     "name": "stdout",
     "output_type": "stream",
     "text": [
      "[CV] END ................................ score: (test=0.123) total time=   0.0s\n",
      "[CV] START .....................................................................\n",
      "[CV] END ................................ score: (test=0.032) total time=   0.0s\n",
      "Mean of scores [0.05177833]\n",
      "standart Accuracy score of scores 0.9392011311417462\n",
      "standart f1 score of scores 0.033707865168539325\n"
     ]
    },
    {
     "name": "stderr",
     "output_type": "stream",
     "text": [
      "[Parallel(n_jobs=1)]: Done   2 out of   2 | elapsed:    0.1s remaining:    0.0s\n",
      "C:\\Users\\ASUS\\anaconda3\\lib\\site-packages\\sklearn\\linear_model\\_logistic.py:814: ConvergenceWarning: lbfgs failed to converge (status=1):\n",
      "STOP: TOTAL NO. of ITERATIONS REACHED LIMIT.\n",
      "\n",
      "Increase the number of iterations (max_iter) or scale the data as shown in:\n",
      "    https://scikit-learn.org/stable/modules/preprocessing.html\n",
      "Please also refer to the documentation for alternative solver options:\n",
      "    https://scikit-learn.org/stable/modules/linear_model.html#logistic-regression\n",
      "  n_iter_i = _check_optimize_result(\n",
      "[Parallel(n_jobs=1)]: Done   3 out of   3 | elapsed:    0.2s remaining:    0.0s\n",
      "[Parallel(n_jobs=1)]: Done   3 out of   3 | elapsed:    0.2s finished\n"
     ]
    }
   ],
   "source": [
    "# YOUR CODE HERE\n",
    "from sklearn.model_selection import cross_val_score\n",
    "\n",
    "# YOUR CODE HERE\n",
    "skf = StratifiedKFold(n_splits=3)\n",
    "model = LogisticRegression()\n",
    "cross_val_fit(model,skf)"
   ],
   "metadata": {
    "collapsed": false,
    "pycharm": {
     "name": "#%%\n"
    }
   }
  },
  {
   "cell_type": "markdown",
   "source": [
    "```Если смотреть по cross val score, то самая худшая модель - svm, а самая лучшая - Dicision Tree Classifier.```"
   ],
   "metadata": {
    "collapsed": false,
    "pycharm": {
     "name": "#%% md\n"
    }
   }
  },
  {
   "cell_type": "markdown",
   "source": [
    "### Task 3 <a id=\"task2_3\"></a> (0.5 points)\n",
    "\n",
    "More Gradient Boosting. You will have to implement one of the three popular boosting implementations (xgboost, lightgbm, catboost). Select hyperparameters (number of trees, learning rate, depth) on cross-validation and compare with the methods from the previous task.\n",
    "\n",
    "To get method that you have to implement, run cell below and input your name in Russian (for example, if you input Андрей, you will see that user with this name should implement xgboost)"
   ],
   "metadata": {
    "collapsed": false,
    "pycharm": {
     "name": "#%% md\n"
    }
   }
  },
  {
   "cell_type": "code",
   "execution_count": 126,
   "outputs": [
    {
     "name": "stdout",
     "output_type": "stream",
     "text": [
      "Реализуйте catboost\n"
     ]
    }
   ],
   "source": [
    "def assign_method():\n",
    "    name = input()\n",
    "    methods = ['xgboost', 'lightgbm', 'catboost']\n",
    "    idx = sum([ord(x) for x in list(name)]) % 3\n",
    "    print('Реализуйте', methods[idx])\n",
    "\n",
    "assign_method()"
   ],
   "metadata": {
    "collapsed": false,
    "pycharm": {
     "name": "#%%\n"
    }
   }
  },
  {
   "cell_type": "code",
   "execution_count": 127,
   "outputs": [],
   "source": [
    "# YOUR CODE HERE"
   ],
   "metadata": {
    "collapsed": false,
    "pycharm": {
     "name": "#%%\n"
    }
   }
  },
  {
   "cell_type": "markdown",
   "source": [
    "```your comments here```"
   ],
   "metadata": {
    "collapsed": false,
    "pycharm": {
     "name": "#%% md\n"
    }
   }
  },
  {
   "cell_type": "markdown",
   "source": [
    "### Task 4 <a id=\"task2_4\"></a> (0.7 points)\n",
    "\n",
    "Now let's train more fancy ensembles:\n",
    "\n",
    "* Bagging with decision trees as base estimators\n",
    "* Bagging with gradient boosting (with large amount of trees, >100) as base estimators\n",
    "* [Voting classifier](https://scikit-learn.org/stable/modules/generated/sklearn.ensemble.VotingClassifier.html#sklearn.ensemble.VotingClassifier)\n",
    "* [Stacking Classifier](https://scikit-learn.org/stable/modules/generated/sklearn.ensemble.StackingClassifier.html#sklearn.ensemble.StackingClassifier) with Logistic Regression as a final model\n",
    "* [Stacking Classifier](https://scikit-learn.org/stable/modules/generated/sklearn.ensemble.StackingClassifier.html#sklearn.ensemble.StackingClassifier) with Gradeint Boosting as a final model\n",
    "\n",
    "\n",
    "If not stated in the task, feel free to tune / choose hyperparameters and base models.\n",
    "\n",
    "Answer the questions:\n",
    "* Which model has the best performance?\n",
    "* Does bagging reduce overfiting of the gradient boosting with large amount of trees?\n",
    "* What is the difference between voting and staking?"
   ],
   "metadata": {
    "collapsed": false,
    "pycharm": {
     "name": "#%% md\n"
    }
   }
  },
  {
   "cell_type": "code",
   "execution_count": 128,
   "outputs": [],
   "source": [
    "# YOUR CODE HERE"
   ],
   "metadata": {
    "collapsed": false,
    "pycharm": {
     "name": "#%%\n"
    }
   }
  },
  {
   "cell_type": "markdown",
   "source": [
    "```your comments here```"
   ],
   "metadata": {
    "collapsed": false,
    "pycharm": {
     "name": "#%% md\n"
    }
   }
  },
  {
   "cell_type": "markdown",
   "source": [
    "### Task 5 <a id=\"task2_5\"></a> (0.1 points)\n",
    "\n",
    "Report the test score for the best model, that you were able to train."
   ],
   "metadata": {
    "collapsed": false,
    "pycharm": {
     "name": "#%% md\n"
    }
   }
  },
  {
   "cell_type": "code",
   "execution_count": 128,
   "outputs": [],
   "source": [],
   "metadata": {
    "collapsed": false,
    "pycharm": {
     "name": "#%%\n"
    }
   }
  },
  {
   "cell_type": "code",
   "execution_count": 128,
   "outputs": [],
   "source": [],
   "metadata": {
    "collapsed": false,
    "pycharm": {
     "name": "#%%\n"
    }
   }
  }
 ],
 "metadata": {
  "kernelspec": {
   "display_name": "Python 3",
   "language": "python",
   "name": "python3"
  },
  "language_info": {
   "codemirror_mode": {
    "name": "ipython",
    "version": 2
   },
   "file_extension": ".py",
   "mimetype": "text/x-python",
   "name": "python",
   "nbconvert_exporter": "python",
   "pygments_lexer": "ipython2",
   "version": "2.7.6"
  }
 },
 "nbformat": 4,
 "nbformat_minor": 0
}